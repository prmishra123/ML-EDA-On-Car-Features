{
 "cells": [
  {
   "cell_type": "markdown",
   "metadata": {
    "papermill": {
     "duration": 0.027687,
     "end_time": "2020-08-22T08:22:34.396762",
     "exception": false,
     "start_time": "2020-08-22T08:22:34.369075",
     "status": "completed"
    },
    "tags": []
   },
   "source": [
    "\n",
    "# OBJECTIVE OF THE PROJECT : The objective of the project is to do data pre-processing and exploratory data analysis of the dataset\n",
    "TASK TO DO : As a data scientist, the majority of your time will be spent on data pre-processing i.e. making sure you have the right data in the right format. Once this is done, you get a sense of your dataset through applying some descriptive statistics and then, you move on to the exploration stage wherein you plot various graphs and mine the hiddeninsights. In this project, you as a data scientist are expected to perform Exploratory data analysis on how the different features of a car and its price are related. The data comes from the Kaggle dataset \"Car Features and MSRP\". It describes almost 12,000 carmodels, sold in the USA between 1990 and 2017, with the market price (new or used) and some features."
   ]
  },
  {
   "cell_type": "markdown",
   "metadata": {
    "papermill": {
     "duration": 0.023209,
     "end_time": "2020-08-22T08:22:34.444465",
     "exception": false,
     "start_time": "2020-08-22T08:22:34.421256",
     "status": "completed"
    },
    "tags": []
   },
   "source": [
    "\n",
    "# > STEPS TO BE DONE\n",
    "Import the dataset and the necessary libraries, check datatype, statistical summary, shape, null values etc.\n",
    "Are there any columns in the dataset which you think are of less relevance. If so, give your reasoning and drop them.\n",
    "Rename the columns \"Engine HP\": \"HP\", \"Engine Cylinders\": \"Cylinders\", \"Transmission Type\": \"Transmission\", \"Driven_Wheels\": \"Drive Mode\",\"highway MPG\": \"MPG-H\", \"city mpg\": \"MPG-C\", \"MSRP\": \"Price\"\n",
    "Check for any duplicates in the data, check for null values and missing data and remove them.\n",
    "Plot graphs of various columns to check for outliers and remove those data points from the dataset.\n",
    "What car brands are the most represented in the dataset and find the average price among the top car brands.\n",
    "Plot the correlation matrix and document your insights.\n",
    "Perform EDA and plot different graphs and document your findings (Try to see how other variables affect the price of the car)\n",
    "(Extra Credits)Split the dataset into 80 and 20 ratio and build a machine learning model with Price as the target variable\n",
    "(Extra Credits)Try different algorithms and check their performance over metrics like R square, RMSE, MAE etc and document your findings"
   ]
  },
  {
   "cell_type": "markdown",
   "metadata": {
    "papermill": {
     "duration": 0.023086,
     "end_time": "2020-08-22T08:22:34.491362",
     "exception": false,
     "start_time": "2020-08-22T08:22:34.468276",
     "status": "completed"
    },
    "tags": []
   },
   "source": [
    "\n",
    "Data Description\n",
    "Make : Car Make Model : Car Model Year : Car Year (Marketing) Engine Fuel Type : Engine Fuel Type Engine HP Engine : HorsePower (HP) Engine Cylinders : Engine Cylinders Transmission Type : Transmission Type Driven_Wheels : Driven Wheels Number of Doors : Number of Doors Market Category : Market Category Vehicle Size : Size of Vehicle Vehicle Style : Type of Vehicle highway MPG : Highway MPG city mpg : City MPG Popularity : Popularity (Twitter) MSRP Manufacturer : Suggested Retail Price"
   ]
  },
  {
   "cell_type": "markdown",
   "metadata": {
    "papermill": {
     "duration": 0.023058,
     "end_time": "2020-08-22T08:22:34.538199",
     "exception": false,
     "start_time": "2020-08-22T08:22:34.515141",
     "status": "completed"
    },
    "tags": []
   },
   "source": [
    "What is Exploratory Data Analysis (EDA)? Exploratory Data Analysis (EDA) is used on the one hand to answer questions, test business assumptions, generate hypotheses for further analysis. On the other hand, you can also use it to prepare the data for modeling. The thing that these two probably have in common is a good knowledge of your data to either get the answers that you need or to develop an intuition for interpreting the results of future modeling.\n",
    "\n",
    "**There are a lot of ways to reach these goals: you can get a basic description of the data, visualize it, identify patterns in it, identify challenges of using the data, etc.\n",
    "\n",
    "One of the things that you’ll often see when you’re reading about EDA is Data profiling. Data profiling is concerned with summarizing your dataset through descriptive statistics. You want to use a variety of measurements to better understand your dataset. The goal of data profiling is to have a solid understanding of your data so you can afterwards start querying and visualizing your data in various ways. However, this doesn’t mean that you don’t have to iterate: exactly because data profiling is concerned with summarizing your dataset, it is frequently used to assess the data quality. Depending on the result of the data profiling, you might decide to correct, discard or handle your data differently.**\n",
    "\n",
    "T**he basics of Exploratory Data Analysis (EDA) in Python with Pandas, Matplotlib and NumPy, such as sampling, feature engineering, correlation, etc. As you will know by now, the Python data manipulation library Pandas is used for data manipulation; For those who are just starting out, this might imply that this package can only be handy when preprocessing data, but much less is true: Pandas is also great to explore your data and to store it after you’re done preprocessing the data.\n",
    "\n",
    "* It **will actually introduce you to some ways to explore your data efficiently with all the above packages so that you can start modeling your data"
   ]
  },
  {
   "cell_type": "code",
   "execution_count": 1,
   "metadata": {
    "execution": {
     "iopub.execute_input": "2020-08-22T08:22:34.598240Z",
     "iopub.status.busy": "2020-08-22T08:22:34.595224Z",
     "iopub.status.idle": "2020-08-22T08:22:36.148392Z",
     "shell.execute_reply": "2020-08-22T08:22:36.147516Z"
    },
    "papermill": {
     "duration": 1.587026,
     "end_time": "2020-08-22T08:22:36.148575",
     "exception": false,
     "start_time": "2020-08-22T08:22:34.561549",
     "status": "completed"
    },
    "tags": []
   },
   "outputs": [],
   "source": [
    "\n",
    "import numpy as np #\n",
    "import pandas as pd\n",
    "import seaborn as sns #visualisation\n",
    "import matplotlib.pyplot as plt \n",
    "%matplotlib inline\n",
    "sns.set(color_codes=True)\n",
    "from sklearn import datasets , linear_model\n",
    "from sklearn.model_selection import train_test_split\n",
    "from sklearn.linear_model import LinearRegression\n",
    "lr=LinearRegression(normalize=True)\n",
    "from sklearn.metrics import accuracy_score"
   ]
  },
  {
   "cell_type": "markdown",
   "metadata": {
    "papermill": {
     "duration": 0.023131,
     "end_time": "2020-08-22T08:22:36.195664",
     "exception": false,
     "start_time": "2020-08-22T08:22:36.172533",
     "status": "completed"
    },
    "tags": []
   },
   "source": [
    "**Importing The Data\n",
    "\n",
    "To start exploring your data, you’ll need to start by actually loading in your data. You’ll probably know this already, but thanks to the Pandas library, this becomes an easy task: you import the package as pd, following the convention, and you use the read_csv() function, to which you pass the URL in which the data can be found and a header argument. This last argument is one that you can use to make sure that your data is read in correctly: the first row of your data won’t be interpreted as the column names of your DataFrame.**"
   ]
  },
  {
   "cell_type": "code",
   "execution_count": 2,
   "metadata": {
    "execution": {
     "iopub.execute_input": "2020-08-22T08:22:36.255494Z",
     "iopub.status.busy": "2020-08-22T08:22:36.254522Z",
     "iopub.status.idle": "2020-08-22T08:22:36.314192Z",
     "shell.execute_reply": "2020-08-22T08:22:36.313268Z"
    },
    "papermill": {
     "duration": 0.094923,
     "end_time": "2020-08-22T08:22:36.314352",
     "exception": false,
     "start_time": "2020-08-22T08:22:36.219429",
     "status": "completed"
    },
    "tags": []
   },
   "outputs": [],
   "source": [
    "df=pd.read_csv('data.csv')"
   ]
  },
  {
   "cell_type": "markdown",
   "metadata": {
    "papermill": {
     "duration": 0.02323,
     "end_time": "2020-08-22T08:22:36.362143",
     "exception": false,
     "start_time": "2020-08-22T08:22:36.338913",
     "status": "completed"
    },
    "tags": []
   },
   "source": [
    "\n",
    "Now that you have got a general idea about your data set, it’s also a good idea to take a closer look at the data itself. With the help of the head() and tail() functions of the Pandas library, you can easily check out the first and last lines of your DataFrame, respectively.**\n",
    "\n",
    "# STARTING MY PROJECT FROM START TO END FROM HERE\n",
    "You’ll see that the result of the head() and tail() functions doesn’t quite say much when you’re not familiar with this kind of data.\n",
    "\n",
    "You might just see a bunch of rows and columns with numerical values in them. Consider reading up on the data set description if you haven’t done so already, which will give you relevant information on how the data was collected an**d also states the number of attributes and rows, which can be handy to check whether you have imported the data correctly."
   ]
  },
  {
   "cell_type": "markdown",
   "metadata": {
    "papermill": {
     "duration": 0.033531,
     "end_time": "2020-08-22T08:22:36.421030",
     "exception": false,
     "start_time": "2020-08-22T08:22:36.387499",
     "status": "completed"
    },
    "tags": []
   },
   "source": [
    "# STEP 1 DISPLAYING FIRST AND LAST 10 ROW AND COLOUMNS"
   ]
  },
  {
   "cell_type": "code",
   "execution_count": 3,
   "metadata": {
    "execution": {
     "iopub.execute_input": "2020-08-22T08:22:36.517932Z",
     "iopub.status.busy": "2020-08-22T08:22:36.516705Z",
     "iopub.status.idle": "2020-08-22T08:22:36.538060Z",
     "shell.execute_reply": "2020-08-22T08:22:36.538856Z"
    },
    "papermill": {
     "duration": 0.082642,
     "end_time": "2020-08-22T08:22:36.539099",
     "exception": false,
     "start_time": "2020-08-22T08:22:36.456457",
     "status": "completed"
    },
    "tags": []
   },
   "outputs": [
    {
     "data": {
      "text/html": [
       "<div>\n",
       "<style scoped>\n",
       "    .dataframe tbody tr th:only-of-type {\n",
       "        vertical-align: middle;\n",
       "    }\n",
       "\n",
       "    .dataframe tbody tr th {\n",
       "        vertical-align: top;\n",
       "    }\n",
       "\n",
       "    .dataframe thead th {\n",
       "        text-align: right;\n",
       "    }\n",
       "</style>\n",
       "<table border=\"1\" class=\"dataframe\">\n",
       "  <thead>\n",
       "    <tr style=\"text-align: right;\">\n",
       "      <th></th>\n",
       "      <th>Make</th>\n",
       "      <th>Model</th>\n",
       "      <th>Year</th>\n",
       "      <th>Engine Fuel Type</th>\n",
       "      <th>Engine HP</th>\n",
       "      <th>Engine Cylinders</th>\n",
       "      <th>Transmission Type</th>\n",
       "      <th>Driven_Wheels</th>\n",
       "      <th>Number of Doors</th>\n",
       "      <th>Market Category</th>\n",
       "      <th>Vehicle Size</th>\n",
       "      <th>Vehicle Style</th>\n",
       "      <th>highway MPG</th>\n",
       "      <th>city mpg</th>\n",
       "      <th>Popularity</th>\n",
       "      <th>MSRP</th>\n",
       "    </tr>\n",
       "  </thead>\n",
       "  <tbody>\n",
       "    <tr>\n",
       "      <th>0</th>\n",
       "      <td>BMW</td>\n",
       "      <td>1 Series M</td>\n",
       "      <td>2011</td>\n",
       "      <td>premium unleaded (required)</td>\n",
       "      <td>335.0</td>\n",
       "      <td>6.0</td>\n",
       "      <td>MANUAL</td>\n",
       "      <td>rear wheel drive</td>\n",
       "      <td>2.0</td>\n",
       "      <td>Factory Tuner,Luxury,High-Performance</td>\n",
       "      <td>Compact</td>\n",
       "      <td>Coupe</td>\n",
       "      <td>26</td>\n",
       "      <td>19</td>\n",
       "      <td>3916</td>\n",
       "      <td>46135</td>\n",
       "    </tr>\n",
       "    <tr>\n",
       "      <th>1</th>\n",
       "      <td>BMW</td>\n",
       "      <td>1 Series</td>\n",
       "      <td>2011</td>\n",
       "      <td>premium unleaded (required)</td>\n",
       "      <td>300.0</td>\n",
       "      <td>6.0</td>\n",
       "      <td>MANUAL</td>\n",
       "      <td>rear wheel drive</td>\n",
       "      <td>2.0</td>\n",
       "      <td>Luxury,Performance</td>\n",
       "      <td>Compact</td>\n",
       "      <td>Convertible</td>\n",
       "      <td>28</td>\n",
       "      <td>19</td>\n",
       "      <td>3916</td>\n",
       "      <td>40650</td>\n",
       "    </tr>\n",
       "    <tr>\n",
       "      <th>2</th>\n",
       "      <td>BMW</td>\n",
       "      <td>1 Series</td>\n",
       "      <td>2011</td>\n",
       "      <td>premium unleaded (required)</td>\n",
       "      <td>300.0</td>\n",
       "      <td>6.0</td>\n",
       "      <td>MANUAL</td>\n",
       "      <td>rear wheel drive</td>\n",
       "      <td>2.0</td>\n",
       "      <td>Luxury,High-Performance</td>\n",
       "      <td>Compact</td>\n",
       "      <td>Coupe</td>\n",
       "      <td>28</td>\n",
       "      <td>20</td>\n",
       "      <td>3916</td>\n",
       "      <td>36350</td>\n",
       "    </tr>\n",
       "    <tr>\n",
       "      <th>3</th>\n",
       "      <td>BMW</td>\n",
       "      <td>1 Series</td>\n",
       "      <td>2011</td>\n",
       "      <td>premium unleaded (required)</td>\n",
       "      <td>230.0</td>\n",
       "      <td>6.0</td>\n",
       "      <td>MANUAL</td>\n",
       "      <td>rear wheel drive</td>\n",
       "      <td>2.0</td>\n",
       "      <td>Luxury,Performance</td>\n",
       "      <td>Compact</td>\n",
       "      <td>Coupe</td>\n",
       "      <td>28</td>\n",
       "      <td>18</td>\n",
       "      <td>3916</td>\n",
       "      <td>29450</td>\n",
       "    </tr>\n",
       "    <tr>\n",
       "      <th>4</th>\n",
       "      <td>BMW</td>\n",
       "      <td>1 Series</td>\n",
       "      <td>2011</td>\n",
       "      <td>premium unleaded (required)</td>\n",
       "      <td>230.0</td>\n",
       "      <td>6.0</td>\n",
       "      <td>MANUAL</td>\n",
       "      <td>rear wheel drive</td>\n",
       "      <td>2.0</td>\n",
       "      <td>Luxury</td>\n",
       "      <td>Compact</td>\n",
       "      <td>Convertible</td>\n",
       "      <td>28</td>\n",
       "      <td>18</td>\n",
       "      <td>3916</td>\n",
       "      <td>34500</td>\n",
       "    </tr>\n",
       "    <tr>\n",
       "      <th>5</th>\n",
       "      <td>BMW</td>\n",
       "      <td>1 Series</td>\n",
       "      <td>2012</td>\n",
       "      <td>premium unleaded (required)</td>\n",
       "      <td>230.0</td>\n",
       "      <td>6.0</td>\n",
       "      <td>MANUAL</td>\n",
       "      <td>rear wheel drive</td>\n",
       "      <td>2.0</td>\n",
       "      <td>Luxury,Performance</td>\n",
       "      <td>Compact</td>\n",
       "      <td>Coupe</td>\n",
       "      <td>28</td>\n",
       "      <td>18</td>\n",
       "      <td>3916</td>\n",
       "      <td>31200</td>\n",
       "    </tr>\n",
       "    <tr>\n",
       "      <th>6</th>\n",
       "      <td>BMW</td>\n",
       "      <td>1 Series</td>\n",
       "      <td>2012</td>\n",
       "      <td>premium unleaded (required)</td>\n",
       "      <td>300.0</td>\n",
       "      <td>6.0</td>\n",
       "      <td>MANUAL</td>\n",
       "      <td>rear wheel drive</td>\n",
       "      <td>2.0</td>\n",
       "      <td>Luxury,Performance</td>\n",
       "      <td>Compact</td>\n",
       "      <td>Convertible</td>\n",
       "      <td>26</td>\n",
       "      <td>17</td>\n",
       "      <td>3916</td>\n",
       "      <td>44100</td>\n",
       "    </tr>\n",
       "    <tr>\n",
       "      <th>7</th>\n",
       "      <td>BMW</td>\n",
       "      <td>1 Series</td>\n",
       "      <td>2012</td>\n",
       "      <td>premium unleaded (required)</td>\n",
       "      <td>300.0</td>\n",
       "      <td>6.0</td>\n",
       "      <td>MANUAL</td>\n",
       "      <td>rear wheel drive</td>\n",
       "      <td>2.0</td>\n",
       "      <td>Luxury,High-Performance</td>\n",
       "      <td>Compact</td>\n",
       "      <td>Coupe</td>\n",
       "      <td>28</td>\n",
       "      <td>20</td>\n",
       "      <td>3916</td>\n",
       "      <td>39300</td>\n",
       "    </tr>\n",
       "    <tr>\n",
       "      <th>8</th>\n",
       "      <td>BMW</td>\n",
       "      <td>1 Series</td>\n",
       "      <td>2012</td>\n",
       "      <td>premium unleaded (required)</td>\n",
       "      <td>230.0</td>\n",
       "      <td>6.0</td>\n",
       "      <td>MANUAL</td>\n",
       "      <td>rear wheel drive</td>\n",
       "      <td>2.0</td>\n",
       "      <td>Luxury</td>\n",
       "      <td>Compact</td>\n",
       "      <td>Convertible</td>\n",
       "      <td>28</td>\n",
       "      <td>18</td>\n",
       "      <td>3916</td>\n",
       "      <td>36900</td>\n",
       "    </tr>\n",
       "    <tr>\n",
       "      <th>9</th>\n",
       "      <td>BMW</td>\n",
       "      <td>1 Series</td>\n",
       "      <td>2013</td>\n",
       "      <td>premium unleaded (required)</td>\n",
       "      <td>230.0</td>\n",
       "      <td>6.0</td>\n",
       "      <td>MANUAL</td>\n",
       "      <td>rear wheel drive</td>\n",
       "      <td>2.0</td>\n",
       "      <td>Luxury</td>\n",
       "      <td>Compact</td>\n",
       "      <td>Convertible</td>\n",
       "      <td>27</td>\n",
       "      <td>18</td>\n",
       "      <td>3916</td>\n",
       "      <td>37200</td>\n",
       "    </tr>\n",
       "  </tbody>\n",
       "</table>\n",
       "</div>"
      ],
      "text/plain": [
       "  Make       Model  Year             Engine Fuel Type  Engine HP  \\\n",
       "0  BMW  1 Series M  2011  premium unleaded (required)      335.0   \n",
       "1  BMW    1 Series  2011  premium unleaded (required)      300.0   \n",
       "2  BMW    1 Series  2011  premium unleaded (required)      300.0   \n",
       "3  BMW    1 Series  2011  premium unleaded (required)      230.0   \n",
       "4  BMW    1 Series  2011  premium unleaded (required)      230.0   \n",
       "5  BMW    1 Series  2012  premium unleaded (required)      230.0   \n",
       "6  BMW    1 Series  2012  premium unleaded (required)      300.0   \n",
       "7  BMW    1 Series  2012  premium unleaded (required)      300.0   \n",
       "8  BMW    1 Series  2012  premium unleaded (required)      230.0   \n",
       "9  BMW    1 Series  2013  premium unleaded (required)      230.0   \n",
       "\n",
       "   Engine Cylinders Transmission Type     Driven_Wheels  Number of Doors  \\\n",
       "0               6.0            MANUAL  rear wheel drive              2.0   \n",
       "1               6.0            MANUAL  rear wheel drive              2.0   \n",
       "2               6.0            MANUAL  rear wheel drive              2.0   \n",
       "3               6.0            MANUAL  rear wheel drive              2.0   \n",
       "4               6.0            MANUAL  rear wheel drive              2.0   \n",
       "5               6.0            MANUAL  rear wheel drive              2.0   \n",
       "6               6.0            MANUAL  rear wheel drive              2.0   \n",
       "7               6.0            MANUAL  rear wheel drive              2.0   \n",
       "8               6.0            MANUAL  rear wheel drive              2.0   \n",
       "9               6.0            MANUAL  rear wheel drive              2.0   \n",
       "\n",
       "                         Market Category Vehicle Size Vehicle Style  \\\n",
       "0  Factory Tuner,Luxury,High-Performance      Compact         Coupe   \n",
       "1                     Luxury,Performance      Compact   Convertible   \n",
       "2                Luxury,High-Performance      Compact         Coupe   \n",
       "3                     Luxury,Performance      Compact         Coupe   \n",
       "4                                 Luxury      Compact   Convertible   \n",
       "5                     Luxury,Performance      Compact         Coupe   \n",
       "6                     Luxury,Performance      Compact   Convertible   \n",
       "7                Luxury,High-Performance      Compact         Coupe   \n",
       "8                                 Luxury      Compact   Convertible   \n",
       "9                                 Luxury      Compact   Convertible   \n",
       "\n",
       "   highway MPG  city mpg  Popularity   MSRP  \n",
       "0           26        19        3916  46135  \n",
       "1           28        19        3916  40650  \n",
       "2           28        20        3916  36350  \n",
       "3           28        18        3916  29450  \n",
       "4           28        18        3916  34500  \n",
       "5           28        18        3916  31200  \n",
       "6           26        17        3916  44100  \n",
       "7           28        20        3916  39300  \n",
       "8           28        18        3916  36900  \n",
       "9           27        18        3916  37200  "
      ]
     },
     "execution_count": 3,
     "metadata": {},
     "output_type": "execute_result"
    }
   ],
   "source": [
    "df.head(10) #starting 10 rows of the dataset"
   ]
  },
  {
   "cell_type": "code",
   "execution_count": 4,
   "metadata": {
    "execution": {
     "iopub.execute_input": "2020-08-22T08:22:36.629327Z",
     "iopub.status.busy": "2020-08-22T08:22:36.628325Z",
     "iopub.status.idle": "2020-08-22T08:22:36.635148Z",
     "shell.execute_reply": "2020-08-22T08:22:36.634451Z"
    },
    "papermill": {
     "duration": 0.071195,
     "end_time": "2020-08-22T08:22:36.635364",
     "exception": false,
     "start_time": "2020-08-22T08:22:36.564169",
     "status": "completed"
    },
    "tags": []
   },
   "outputs": [
    {
     "data": {
      "text/html": [
       "<div>\n",
       "<style scoped>\n",
       "    .dataframe tbody tr th:only-of-type {\n",
       "        vertical-align: middle;\n",
       "    }\n",
       "\n",
       "    .dataframe tbody tr th {\n",
       "        vertical-align: top;\n",
       "    }\n",
       "\n",
       "    .dataframe thead th {\n",
       "        text-align: right;\n",
       "    }\n",
       "</style>\n",
       "<table border=\"1\" class=\"dataframe\">\n",
       "  <thead>\n",
       "    <tr style=\"text-align: right;\">\n",
       "      <th></th>\n",
       "      <th>Make</th>\n",
       "      <th>Model</th>\n",
       "      <th>Year</th>\n",
       "      <th>Engine Fuel Type</th>\n",
       "      <th>Engine HP</th>\n",
       "      <th>Engine Cylinders</th>\n",
       "      <th>Transmission Type</th>\n",
       "      <th>Driven_Wheels</th>\n",
       "      <th>Number of Doors</th>\n",
       "      <th>Market Category</th>\n",
       "      <th>Vehicle Size</th>\n",
       "      <th>Vehicle Style</th>\n",
       "      <th>highway MPG</th>\n",
       "      <th>city mpg</th>\n",
       "      <th>Popularity</th>\n",
       "      <th>MSRP</th>\n",
       "    </tr>\n",
       "  </thead>\n",
       "  <tbody>\n",
       "    <tr>\n",
       "      <th>11904</th>\n",
       "      <td>BMW</td>\n",
       "      <td>Z8</td>\n",
       "      <td>2002</td>\n",
       "      <td>premium unleaded (required)</td>\n",
       "      <td>394.0</td>\n",
       "      <td>8.0</td>\n",
       "      <td>MANUAL</td>\n",
       "      <td>rear wheel drive</td>\n",
       "      <td>2.0</td>\n",
       "      <td>Exotic,Luxury,High-Performance</td>\n",
       "      <td>Compact</td>\n",
       "      <td>Convertible</td>\n",
       "      <td>19</td>\n",
       "      <td>12</td>\n",
       "      <td>3916</td>\n",
       "      <td>130000</td>\n",
       "    </tr>\n",
       "    <tr>\n",
       "      <th>11905</th>\n",
       "      <td>BMW</td>\n",
       "      <td>Z8</td>\n",
       "      <td>2003</td>\n",
       "      <td>premium unleaded (required)</td>\n",
       "      <td>394.0</td>\n",
       "      <td>8.0</td>\n",
       "      <td>MANUAL</td>\n",
       "      <td>rear wheel drive</td>\n",
       "      <td>2.0</td>\n",
       "      <td>Exotic,Luxury,High-Performance</td>\n",
       "      <td>Compact</td>\n",
       "      <td>Convertible</td>\n",
       "      <td>19</td>\n",
       "      <td>12</td>\n",
       "      <td>3916</td>\n",
       "      <td>131500</td>\n",
       "    </tr>\n",
       "    <tr>\n",
       "      <th>11906</th>\n",
       "      <td>Acura</td>\n",
       "      <td>ZDX</td>\n",
       "      <td>2011</td>\n",
       "      <td>premium unleaded (required)</td>\n",
       "      <td>300.0</td>\n",
       "      <td>6.0</td>\n",
       "      <td>AUTOMATIC</td>\n",
       "      <td>all wheel drive</td>\n",
       "      <td>4.0</td>\n",
       "      <td>Crossover,Hatchback,Luxury</td>\n",
       "      <td>Midsize</td>\n",
       "      <td>4dr Hatchback</td>\n",
       "      <td>23</td>\n",
       "      <td>16</td>\n",
       "      <td>204</td>\n",
       "      <td>46020</td>\n",
       "    </tr>\n",
       "    <tr>\n",
       "      <th>11907</th>\n",
       "      <td>Acura</td>\n",
       "      <td>ZDX</td>\n",
       "      <td>2011</td>\n",
       "      <td>premium unleaded (required)</td>\n",
       "      <td>300.0</td>\n",
       "      <td>6.0</td>\n",
       "      <td>AUTOMATIC</td>\n",
       "      <td>all wheel drive</td>\n",
       "      <td>4.0</td>\n",
       "      <td>Crossover,Hatchback,Luxury</td>\n",
       "      <td>Midsize</td>\n",
       "      <td>4dr Hatchback</td>\n",
       "      <td>23</td>\n",
       "      <td>16</td>\n",
       "      <td>204</td>\n",
       "      <td>56570</td>\n",
       "    </tr>\n",
       "    <tr>\n",
       "      <th>11908</th>\n",
       "      <td>Acura</td>\n",
       "      <td>ZDX</td>\n",
       "      <td>2011</td>\n",
       "      <td>premium unleaded (required)</td>\n",
       "      <td>300.0</td>\n",
       "      <td>6.0</td>\n",
       "      <td>AUTOMATIC</td>\n",
       "      <td>all wheel drive</td>\n",
       "      <td>4.0</td>\n",
       "      <td>Crossover,Hatchback,Luxury</td>\n",
       "      <td>Midsize</td>\n",
       "      <td>4dr Hatchback</td>\n",
       "      <td>23</td>\n",
       "      <td>16</td>\n",
       "      <td>204</td>\n",
       "      <td>50520</td>\n",
       "    </tr>\n",
       "    <tr>\n",
       "      <th>11909</th>\n",
       "      <td>Acura</td>\n",
       "      <td>ZDX</td>\n",
       "      <td>2012</td>\n",
       "      <td>premium unleaded (required)</td>\n",
       "      <td>300.0</td>\n",
       "      <td>6.0</td>\n",
       "      <td>AUTOMATIC</td>\n",
       "      <td>all wheel drive</td>\n",
       "      <td>4.0</td>\n",
       "      <td>Crossover,Hatchback,Luxury</td>\n",
       "      <td>Midsize</td>\n",
       "      <td>4dr Hatchback</td>\n",
       "      <td>23</td>\n",
       "      <td>16</td>\n",
       "      <td>204</td>\n",
       "      <td>46120</td>\n",
       "    </tr>\n",
       "    <tr>\n",
       "      <th>11910</th>\n",
       "      <td>Acura</td>\n",
       "      <td>ZDX</td>\n",
       "      <td>2012</td>\n",
       "      <td>premium unleaded (required)</td>\n",
       "      <td>300.0</td>\n",
       "      <td>6.0</td>\n",
       "      <td>AUTOMATIC</td>\n",
       "      <td>all wheel drive</td>\n",
       "      <td>4.0</td>\n",
       "      <td>Crossover,Hatchback,Luxury</td>\n",
       "      <td>Midsize</td>\n",
       "      <td>4dr Hatchback</td>\n",
       "      <td>23</td>\n",
       "      <td>16</td>\n",
       "      <td>204</td>\n",
       "      <td>56670</td>\n",
       "    </tr>\n",
       "    <tr>\n",
       "      <th>11911</th>\n",
       "      <td>Acura</td>\n",
       "      <td>ZDX</td>\n",
       "      <td>2012</td>\n",
       "      <td>premium unleaded (required)</td>\n",
       "      <td>300.0</td>\n",
       "      <td>6.0</td>\n",
       "      <td>AUTOMATIC</td>\n",
       "      <td>all wheel drive</td>\n",
       "      <td>4.0</td>\n",
       "      <td>Crossover,Hatchback,Luxury</td>\n",
       "      <td>Midsize</td>\n",
       "      <td>4dr Hatchback</td>\n",
       "      <td>23</td>\n",
       "      <td>16</td>\n",
       "      <td>204</td>\n",
       "      <td>50620</td>\n",
       "    </tr>\n",
       "    <tr>\n",
       "      <th>11912</th>\n",
       "      <td>Acura</td>\n",
       "      <td>ZDX</td>\n",
       "      <td>2013</td>\n",
       "      <td>premium unleaded (recommended)</td>\n",
       "      <td>300.0</td>\n",
       "      <td>6.0</td>\n",
       "      <td>AUTOMATIC</td>\n",
       "      <td>all wheel drive</td>\n",
       "      <td>4.0</td>\n",
       "      <td>Crossover,Hatchback,Luxury</td>\n",
       "      <td>Midsize</td>\n",
       "      <td>4dr Hatchback</td>\n",
       "      <td>23</td>\n",
       "      <td>16</td>\n",
       "      <td>204</td>\n",
       "      <td>50920</td>\n",
       "    </tr>\n",
       "    <tr>\n",
       "      <th>11913</th>\n",
       "      <td>Lincoln</td>\n",
       "      <td>Zephyr</td>\n",
       "      <td>2006</td>\n",
       "      <td>regular unleaded</td>\n",
       "      <td>221.0</td>\n",
       "      <td>6.0</td>\n",
       "      <td>AUTOMATIC</td>\n",
       "      <td>front wheel drive</td>\n",
       "      <td>4.0</td>\n",
       "      <td>Luxury</td>\n",
       "      <td>Midsize</td>\n",
       "      <td>Sedan</td>\n",
       "      <td>26</td>\n",
       "      <td>17</td>\n",
       "      <td>61</td>\n",
       "      <td>28995</td>\n",
       "    </tr>\n",
       "  </tbody>\n",
       "</table>\n",
       "</div>"
      ],
      "text/plain": [
       "          Make   Model  Year                Engine Fuel Type  Engine HP  \\\n",
       "11904      BMW      Z8  2002     premium unleaded (required)      394.0   \n",
       "11905      BMW      Z8  2003     premium unleaded (required)      394.0   \n",
       "11906    Acura     ZDX  2011     premium unleaded (required)      300.0   \n",
       "11907    Acura     ZDX  2011     premium unleaded (required)      300.0   \n",
       "11908    Acura     ZDX  2011     premium unleaded (required)      300.0   \n",
       "11909    Acura     ZDX  2012     premium unleaded (required)      300.0   \n",
       "11910    Acura     ZDX  2012     premium unleaded (required)      300.0   \n",
       "11911    Acura     ZDX  2012     premium unleaded (required)      300.0   \n",
       "11912    Acura     ZDX  2013  premium unleaded (recommended)      300.0   \n",
       "11913  Lincoln  Zephyr  2006                regular unleaded      221.0   \n",
       "\n",
       "       Engine Cylinders Transmission Type      Driven_Wheels  Number of Doors  \\\n",
       "11904               8.0            MANUAL   rear wheel drive              2.0   \n",
       "11905               8.0            MANUAL   rear wheel drive              2.0   \n",
       "11906               6.0         AUTOMATIC    all wheel drive              4.0   \n",
       "11907               6.0         AUTOMATIC    all wheel drive              4.0   \n",
       "11908               6.0         AUTOMATIC    all wheel drive              4.0   \n",
       "11909               6.0         AUTOMATIC    all wheel drive              4.0   \n",
       "11910               6.0         AUTOMATIC    all wheel drive              4.0   \n",
       "11911               6.0         AUTOMATIC    all wheel drive              4.0   \n",
       "11912               6.0         AUTOMATIC    all wheel drive              4.0   \n",
       "11913               6.0         AUTOMATIC  front wheel drive              4.0   \n",
       "\n",
       "                      Market Category Vehicle Size  Vehicle Style  \\\n",
       "11904  Exotic,Luxury,High-Performance      Compact    Convertible   \n",
       "11905  Exotic,Luxury,High-Performance      Compact    Convertible   \n",
       "11906      Crossover,Hatchback,Luxury      Midsize  4dr Hatchback   \n",
       "11907      Crossover,Hatchback,Luxury      Midsize  4dr Hatchback   \n",
       "11908      Crossover,Hatchback,Luxury      Midsize  4dr Hatchback   \n",
       "11909      Crossover,Hatchback,Luxury      Midsize  4dr Hatchback   \n",
       "11910      Crossover,Hatchback,Luxury      Midsize  4dr Hatchback   \n",
       "11911      Crossover,Hatchback,Luxury      Midsize  4dr Hatchback   \n",
       "11912      Crossover,Hatchback,Luxury      Midsize  4dr Hatchback   \n",
       "11913                          Luxury      Midsize          Sedan   \n",
       "\n",
       "       highway MPG  city mpg  Popularity    MSRP  \n",
       "11904           19        12        3916  130000  \n",
       "11905           19        12        3916  131500  \n",
       "11906           23        16         204   46020  \n",
       "11907           23        16         204   56570  \n",
       "11908           23        16         204   50520  \n",
       "11909           23        16         204   46120  \n",
       "11910           23        16         204   56670  \n",
       "11911           23        16         204   50620  \n",
       "11912           23        16         204   50920  \n",
       "11913           26        17          61   28995  "
      ]
     },
     "execution_count": 4,
     "metadata": {},
     "output_type": "execute_result"
    }
   ],
   "source": [
    "df.tail(10) #displaying last 10 rows of the data"
   ]
  },
  {
   "cell_type": "markdown",
   "metadata": {
    "papermill": {
     "duration": 0.024728,
     "end_time": "2020-08-22T08:22:36.685759",
     "exception": false,
     "start_time": "2020-08-22T08:22:36.661031",
     "status": "completed"
    },
    "tags": []
   },
   "source": [
    "\n",
    "# STep 1.1 checking the DATATYPE"
   ]
  },
  {
   "cell_type": "code",
   "execution_count": 5,
   "metadata": {
    "execution": {
     "iopub.execute_input": "2020-08-22T08:22:36.755465Z",
     "iopub.status.busy": "2020-08-22T08:22:36.754166Z",
     "iopub.status.idle": "2020-08-22T08:22:36.776996Z",
     "shell.execute_reply": "2020-08-22T08:22:36.775923Z"
    },
    "papermill": {
     "duration": 0.065965,
     "end_time": "2020-08-22T08:22:36.777196",
     "exception": false,
     "start_time": "2020-08-22T08:22:36.711231",
     "status": "completed"
    },
    "tags": []
   },
   "outputs": [
    {
     "name": "stdout",
     "output_type": "stream",
     "text": [
      "<class 'pandas.core.frame.DataFrame'>\n",
      "RangeIndex: 11914 entries, 0 to 11913\n",
      "Data columns (total 16 columns):\n",
      "Make                 11914 non-null object\n",
      "Model                11914 non-null object\n",
      "Year                 11914 non-null int64\n",
      "Engine Fuel Type     11911 non-null object\n",
      "Engine HP            11845 non-null float64\n",
      "Engine Cylinders     11884 non-null float64\n",
      "Transmission Type    11914 non-null object\n",
      "Driven_Wheels        11914 non-null object\n",
      "Number of Doors      11908 non-null float64\n",
      "Market Category      8172 non-null object\n",
      "Vehicle Size         11914 non-null object\n",
      "Vehicle Style        11914 non-null object\n",
      "highway MPG          11914 non-null int64\n",
      "city mpg             11914 non-null int64\n",
      "Popularity           11914 non-null int64\n",
      "MSRP                 11914 non-null int64\n",
      "dtypes: float64(3), int64(5), object(8)\n",
      "memory usage: 1.5+ MB\n"
     ]
    }
   ],
   "source": [
    "df.info() #getting the summary of the dataframe"
   ]
  },
  {
   "cell_type": "markdown",
   "metadata": {
    "papermill": {
     "duration": 0.025082,
     "end_time": "2020-08-22T08:22:36.828566",
     "exception": false,
     "start_time": "2020-08-22T08:22:36.803484",
     "status": "completed"
    },
    "tags": []
   },
   "source": [
    "\n",
    "#  1.2 Displaying the shape of dataframe"
   ]
  },
  {
   "cell_type": "code",
   "execution_count": 6,
   "metadata": {
    "execution": {
     "iopub.execute_input": "2020-08-22T08:22:36.890373Z",
     "iopub.status.busy": "2020-08-22T08:22:36.889245Z",
     "iopub.status.idle": "2020-08-22T08:22:36.894801Z",
     "shell.execute_reply": "2020-08-22T08:22:36.893982Z"
    },
    "papermill": {
     "duration": 0.040734,
     "end_time": "2020-08-22T08:22:36.894979",
     "exception": false,
     "start_time": "2020-08-22T08:22:36.854245",
     "status": "completed"
    },
    "tags": []
   },
   "outputs": [
    {
     "data": {
      "text/plain": [
       "(11914, 16)"
      ]
     },
     "execution_count": 6,
     "metadata": {},
     "output_type": "execute_result"
    }
   ],
   "source": [
    "df.shape #for  summary of the data frame"
   ]
  },
  {
   "cell_type": "markdown",
   "metadata": {
    "papermill": {
     "duration": 0.025716,
     "end_time": "2020-08-22T08:22:36.947352",
     "exception": false,
     "start_time": "2020-08-22T08:22:36.921636",
     "status": "completed"
    },
    "tags": []
   },
   "source": [
    "# SHOWING THE STATISTICAL MEASURE OF ALL DATA FRAME"
   ]
  },
  {
   "cell_type": "code",
   "execution_count": 7,
   "metadata": {
    "execution": {
     "iopub.execute_input": "2020-08-22T08:22:37.012249Z",
     "iopub.status.busy": "2020-08-22T08:22:37.011162Z",
     "iopub.status.idle": "2020-08-22T08:22:37.137066Z",
     "shell.execute_reply": "2020-08-22T08:22:37.136271Z"
    },
    "papermill": {
     "duration": 0.16286,
     "end_time": "2020-08-22T08:22:37.137223",
     "exception": false,
     "start_time": "2020-08-22T08:22:36.974363",
     "status": "completed"
    },
    "tags": []
   },
   "outputs": [
    {
     "data": {
      "text/html": [
       "<div>\n",
       "<style scoped>\n",
       "    .dataframe tbody tr th:only-of-type {\n",
       "        vertical-align: middle;\n",
       "    }\n",
       "\n",
       "    .dataframe tbody tr th {\n",
       "        vertical-align: top;\n",
       "    }\n",
       "\n",
       "    .dataframe thead th {\n",
       "        text-align: right;\n",
       "    }\n",
       "</style>\n",
       "<table border=\"1\" class=\"dataframe\">\n",
       "  <thead>\n",
       "    <tr style=\"text-align: right;\">\n",
       "      <th></th>\n",
       "      <th>Make</th>\n",
       "      <th>Model</th>\n",
       "      <th>Year</th>\n",
       "      <th>Engine Fuel Type</th>\n",
       "      <th>Engine HP</th>\n",
       "      <th>Engine Cylinders</th>\n",
       "      <th>Transmission Type</th>\n",
       "      <th>Driven_Wheels</th>\n",
       "      <th>Number of Doors</th>\n",
       "      <th>Market Category</th>\n",
       "      <th>Vehicle Size</th>\n",
       "      <th>Vehicle Style</th>\n",
       "      <th>highway MPG</th>\n",
       "      <th>city mpg</th>\n",
       "      <th>Popularity</th>\n",
       "      <th>MSRP</th>\n",
       "    </tr>\n",
       "  </thead>\n",
       "  <tbody>\n",
       "    <tr>\n",
       "      <th>count</th>\n",
       "      <td>11914</td>\n",
       "      <td>11914</td>\n",
       "      <td>11914.000000</td>\n",
       "      <td>11911</td>\n",
       "      <td>11845.00000</td>\n",
       "      <td>11884.000000</td>\n",
       "      <td>11914</td>\n",
       "      <td>11914</td>\n",
       "      <td>11908.000000</td>\n",
       "      <td>8172</td>\n",
       "      <td>11914</td>\n",
       "      <td>11914</td>\n",
       "      <td>11914.000000</td>\n",
       "      <td>11914.000000</td>\n",
       "      <td>11914.000000</td>\n",
       "      <td>1.191400e+04</td>\n",
       "    </tr>\n",
       "    <tr>\n",
       "      <th>unique</th>\n",
       "      <td>48</td>\n",
       "      <td>915</td>\n",
       "      <td>NaN</td>\n",
       "      <td>10</td>\n",
       "      <td>NaN</td>\n",
       "      <td>NaN</td>\n",
       "      <td>5</td>\n",
       "      <td>4</td>\n",
       "      <td>NaN</td>\n",
       "      <td>71</td>\n",
       "      <td>3</td>\n",
       "      <td>16</td>\n",
       "      <td>NaN</td>\n",
       "      <td>NaN</td>\n",
       "      <td>NaN</td>\n",
       "      <td>NaN</td>\n",
       "    </tr>\n",
       "    <tr>\n",
       "      <th>top</th>\n",
       "      <td>Chevrolet</td>\n",
       "      <td>Silverado 1500</td>\n",
       "      <td>NaN</td>\n",
       "      <td>regular unleaded</td>\n",
       "      <td>NaN</td>\n",
       "      <td>NaN</td>\n",
       "      <td>AUTOMATIC</td>\n",
       "      <td>front wheel drive</td>\n",
       "      <td>NaN</td>\n",
       "      <td>Crossover</td>\n",
       "      <td>Compact</td>\n",
       "      <td>Sedan</td>\n",
       "      <td>NaN</td>\n",
       "      <td>NaN</td>\n",
       "      <td>NaN</td>\n",
       "      <td>NaN</td>\n",
       "    </tr>\n",
       "    <tr>\n",
       "      <th>freq</th>\n",
       "      <td>1123</td>\n",
       "      <td>156</td>\n",
       "      <td>NaN</td>\n",
       "      <td>7172</td>\n",
       "      <td>NaN</td>\n",
       "      <td>NaN</td>\n",
       "      <td>8266</td>\n",
       "      <td>4787</td>\n",
       "      <td>NaN</td>\n",
       "      <td>1110</td>\n",
       "      <td>4764</td>\n",
       "      <td>3048</td>\n",
       "      <td>NaN</td>\n",
       "      <td>NaN</td>\n",
       "      <td>NaN</td>\n",
       "      <td>NaN</td>\n",
       "    </tr>\n",
       "    <tr>\n",
       "      <th>mean</th>\n",
       "      <td>NaN</td>\n",
       "      <td>NaN</td>\n",
       "      <td>2010.384338</td>\n",
       "      <td>NaN</td>\n",
       "      <td>249.38607</td>\n",
       "      <td>5.628829</td>\n",
       "      <td>NaN</td>\n",
       "      <td>NaN</td>\n",
       "      <td>3.436093</td>\n",
       "      <td>NaN</td>\n",
       "      <td>NaN</td>\n",
       "      <td>NaN</td>\n",
       "      <td>26.637485</td>\n",
       "      <td>19.733255</td>\n",
       "      <td>1554.911197</td>\n",
       "      <td>4.059474e+04</td>\n",
       "    </tr>\n",
       "    <tr>\n",
       "      <th>std</th>\n",
       "      <td>NaN</td>\n",
       "      <td>NaN</td>\n",
       "      <td>7.579740</td>\n",
       "      <td>NaN</td>\n",
       "      <td>109.19187</td>\n",
       "      <td>1.780559</td>\n",
       "      <td>NaN</td>\n",
       "      <td>NaN</td>\n",
       "      <td>0.881315</td>\n",
       "      <td>NaN</td>\n",
       "      <td>NaN</td>\n",
       "      <td>NaN</td>\n",
       "      <td>8.863001</td>\n",
       "      <td>8.987798</td>\n",
       "      <td>1441.855347</td>\n",
       "      <td>6.010910e+04</td>\n",
       "    </tr>\n",
       "    <tr>\n",
       "      <th>min</th>\n",
       "      <td>NaN</td>\n",
       "      <td>NaN</td>\n",
       "      <td>1990.000000</td>\n",
       "      <td>NaN</td>\n",
       "      <td>55.00000</td>\n",
       "      <td>0.000000</td>\n",
       "      <td>NaN</td>\n",
       "      <td>NaN</td>\n",
       "      <td>2.000000</td>\n",
       "      <td>NaN</td>\n",
       "      <td>NaN</td>\n",
       "      <td>NaN</td>\n",
       "      <td>12.000000</td>\n",
       "      <td>7.000000</td>\n",
       "      <td>2.000000</td>\n",
       "      <td>2.000000e+03</td>\n",
       "    </tr>\n",
       "    <tr>\n",
       "      <th>25%</th>\n",
       "      <td>NaN</td>\n",
       "      <td>NaN</td>\n",
       "      <td>2007.000000</td>\n",
       "      <td>NaN</td>\n",
       "      <td>170.00000</td>\n",
       "      <td>4.000000</td>\n",
       "      <td>NaN</td>\n",
       "      <td>NaN</td>\n",
       "      <td>2.000000</td>\n",
       "      <td>NaN</td>\n",
       "      <td>NaN</td>\n",
       "      <td>NaN</td>\n",
       "      <td>22.000000</td>\n",
       "      <td>16.000000</td>\n",
       "      <td>549.000000</td>\n",
       "      <td>2.100000e+04</td>\n",
       "    </tr>\n",
       "    <tr>\n",
       "      <th>50%</th>\n",
       "      <td>NaN</td>\n",
       "      <td>NaN</td>\n",
       "      <td>2015.000000</td>\n",
       "      <td>NaN</td>\n",
       "      <td>227.00000</td>\n",
       "      <td>6.000000</td>\n",
       "      <td>NaN</td>\n",
       "      <td>NaN</td>\n",
       "      <td>4.000000</td>\n",
       "      <td>NaN</td>\n",
       "      <td>NaN</td>\n",
       "      <td>NaN</td>\n",
       "      <td>26.000000</td>\n",
       "      <td>18.000000</td>\n",
       "      <td>1385.000000</td>\n",
       "      <td>2.999500e+04</td>\n",
       "    </tr>\n",
       "    <tr>\n",
       "      <th>75%</th>\n",
       "      <td>NaN</td>\n",
       "      <td>NaN</td>\n",
       "      <td>2016.000000</td>\n",
       "      <td>NaN</td>\n",
       "      <td>300.00000</td>\n",
       "      <td>6.000000</td>\n",
       "      <td>NaN</td>\n",
       "      <td>NaN</td>\n",
       "      <td>4.000000</td>\n",
       "      <td>NaN</td>\n",
       "      <td>NaN</td>\n",
       "      <td>NaN</td>\n",
       "      <td>30.000000</td>\n",
       "      <td>22.000000</td>\n",
       "      <td>2009.000000</td>\n",
       "      <td>4.223125e+04</td>\n",
       "    </tr>\n",
       "    <tr>\n",
       "      <th>max</th>\n",
       "      <td>NaN</td>\n",
       "      <td>NaN</td>\n",
       "      <td>2017.000000</td>\n",
       "      <td>NaN</td>\n",
       "      <td>1001.00000</td>\n",
       "      <td>16.000000</td>\n",
       "      <td>NaN</td>\n",
       "      <td>NaN</td>\n",
       "      <td>4.000000</td>\n",
       "      <td>NaN</td>\n",
       "      <td>NaN</td>\n",
       "      <td>NaN</td>\n",
       "      <td>354.000000</td>\n",
       "      <td>137.000000</td>\n",
       "      <td>5657.000000</td>\n",
       "      <td>2.065902e+06</td>\n",
       "    </tr>\n",
       "  </tbody>\n",
       "</table>\n",
       "</div>"
      ],
      "text/plain": [
       "             Make           Model          Year  Engine Fuel Type  \\\n",
       "count       11914           11914  11914.000000             11911   \n",
       "unique         48             915           NaN                10   \n",
       "top     Chevrolet  Silverado 1500           NaN  regular unleaded   \n",
       "freq         1123             156           NaN              7172   \n",
       "mean          NaN             NaN   2010.384338               NaN   \n",
       "std           NaN             NaN      7.579740               NaN   \n",
       "min           NaN             NaN   1990.000000               NaN   \n",
       "25%           NaN             NaN   2007.000000               NaN   \n",
       "50%           NaN             NaN   2015.000000               NaN   \n",
       "75%           NaN             NaN   2016.000000               NaN   \n",
       "max           NaN             NaN   2017.000000               NaN   \n",
       "\n",
       "          Engine HP  Engine Cylinders Transmission Type      Driven_Wheels  \\\n",
       "count   11845.00000      11884.000000             11914              11914   \n",
       "unique          NaN               NaN                 5                  4   \n",
       "top             NaN               NaN         AUTOMATIC  front wheel drive   \n",
       "freq            NaN               NaN              8266               4787   \n",
       "mean      249.38607          5.628829               NaN                NaN   \n",
       "std       109.19187          1.780559               NaN                NaN   \n",
       "min        55.00000          0.000000               NaN                NaN   \n",
       "25%       170.00000          4.000000               NaN                NaN   \n",
       "50%       227.00000          6.000000               NaN                NaN   \n",
       "75%       300.00000          6.000000               NaN                NaN   \n",
       "max      1001.00000         16.000000               NaN                NaN   \n",
       "\n",
       "        Number of Doors Market Category Vehicle Size Vehicle Style  \\\n",
       "count      11908.000000            8172        11914         11914   \n",
       "unique              NaN              71            3            16   \n",
       "top                 NaN       Crossover      Compact         Sedan   \n",
       "freq                NaN            1110         4764          3048   \n",
       "mean           3.436093             NaN          NaN           NaN   \n",
       "std            0.881315             NaN          NaN           NaN   \n",
       "min            2.000000             NaN          NaN           NaN   \n",
       "25%            2.000000             NaN          NaN           NaN   \n",
       "50%            4.000000             NaN          NaN           NaN   \n",
       "75%            4.000000             NaN          NaN           NaN   \n",
       "max            4.000000             NaN          NaN           NaN   \n",
       "\n",
       "         highway MPG      city mpg    Popularity          MSRP  \n",
       "count   11914.000000  11914.000000  11914.000000  1.191400e+04  \n",
       "unique           NaN           NaN           NaN           NaN  \n",
       "top              NaN           NaN           NaN           NaN  \n",
       "freq             NaN           NaN           NaN           NaN  \n",
       "mean       26.637485     19.733255   1554.911197  4.059474e+04  \n",
       "std         8.863001      8.987798   1441.855347  6.010910e+04  \n",
       "min        12.000000      7.000000      2.000000  2.000000e+03  \n",
       "25%        22.000000     16.000000    549.000000  2.100000e+04  \n",
       "50%        26.000000     18.000000   1385.000000  2.999500e+04  \n",
       "75%        30.000000     22.000000   2009.000000  4.223125e+04  \n",
       "max       354.000000    137.000000   5657.000000  2.065902e+06  "
      ]
     },
     "execution_count": 7,
     "metadata": {},
     "output_type": "execute_result"
    }
   ],
   "source": [
    "df.describe(include='all')"
   ]
  },
  {
   "cell_type": "markdown",
   "metadata": {
    "papermill": {
     "duration": 0.025229,
     "end_time": "2020-08-22T08:22:37.189219",
     "exception": false,
     "start_time": "2020-08-22T08:22:37.163990",
     "status": "completed"
    },
    "tags": []
   },
   "source": [
    "\n",
    "# 1.3 CHECKING FOR NULL VALUES"
   ]
  },
  {
   "cell_type": "code",
   "execution_count": 8,
   "metadata": {
    "execution": {
     "iopub.execute_input": "2020-08-22T08:22:37.258799Z",
     "iopub.status.busy": "2020-08-22T08:22:37.257934Z",
     "iopub.status.idle": "2020-08-22T08:22:37.267225Z",
     "shell.execute_reply": "2020-08-22T08:22:37.266531Z"
    },
    "papermill": {
     "duration": 0.052263,
     "end_time": "2020-08-22T08:22:37.267384",
     "exception": false,
     "start_time": "2020-08-22T08:22:37.215121",
     "status": "completed"
    },
    "tags": []
   },
   "outputs": [
    {
     "data": {
      "text/plain": [
       "Make                    0\n",
       "Model                   0\n",
       "Year                    0\n",
       "Engine Fuel Type        3\n",
       "Engine HP              69\n",
       "Engine Cylinders       30\n",
       "Transmission Type       0\n",
       "Driven_Wheels           0\n",
       "Number of Doors         6\n",
       "Market Category      3742\n",
       "Vehicle Size            0\n",
       "Vehicle Style           0\n",
       "highway MPG             0\n",
       "city mpg                0\n",
       "Popularity              0\n",
       "MSRP                    0\n",
       "dtype: int64"
      ]
     },
     "execution_count": 8,
     "metadata": {},
     "output_type": "execute_result"
    }
   ],
   "source": [
    "df.isnull().sum() #checking if there are some null values"
   ]
  },
  {
   "cell_type": "markdown",
   "metadata": {
    "papermill": {
     "duration": 0.025492,
     "end_time": "2020-08-22T08:22:37.319423",
     "exception": false,
     "start_time": "2020-08-22T08:22:37.293931",
     "status": "completed"
    },
    "tags": []
   },
   "source": [
    "\n",
    "# STEP 2 DROPPING LESS RELEVANCE COLOMN IN THE DATASET"
   ]
  },
  {
   "cell_type": "markdown",
   "metadata": {
    "papermill": {
     "duration": 0.025751,
     "end_time": "2020-08-22T08:22:37.371435",
     "exception": false,
     "start_time": "2020-08-22T08:22:37.345684",
     "status": "completed"
    },
    "tags": []
   },
   "source": [
    "> WHY RELEVANCE ?** as it doesnot get affect the whole data set if it is not there in the data frame ... it just affect the nulll values or like duplicate values if it gets present in the datset . TIt also contains max amout of null values therefore acc to me it should be drop down"
   ]
  },
  {
   "cell_type": "code",
   "execution_count": 9,
   "metadata": {
    "execution": {
     "iopub.execute_input": "2020-08-22T08:22:37.452249Z",
     "iopub.status.busy": "2020-08-22T08:22:37.451029Z",
     "iopub.status.idle": "2020-08-22T08:22:37.456528Z",
     "shell.execute_reply": "2020-08-22T08:22:37.455726Z"
    },
    "papermill": {
     "duration": 0.05874,
     "end_time": "2020-08-22T08:22:37.456675",
     "exception": false,
     "start_time": "2020-08-22T08:22:37.397935",
     "status": "completed"
    },
    "tags": []
   },
   "outputs": [
    {
     "data": {
      "text/html": [
       "<div>\n",
       "<style scoped>\n",
       "    .dataframe tbody tr th:only-of-type {\n",
       "        vertical-align: middle;\n",
       "    }\n",
       "\n",
       "    .dataframe tbody tr th {\n",
       "        vertical-align: top;\n",
       "    }\n",
       "\n",
       "    .dataframe thead th {\n",
       "        text-align: right;\n",
       "    }\n",
       "</style>\n",
       "<table border=\"1\" class=\"dataframe\">\n",
       "  <thead>\n",
       "    <tr style=\"text-align: right;\">\n",
       "      <th></th>\n",
       "      <th>Make</th>\n",
       "      <th>Model</th>\n",
       "      <th>Year</th>\n",
       "      <th>Engine HP</th>\n",
       "      <th>Engine Cylinders</th>\n",
       "      <th>Transmission Type</th>\n",
       "      <th>Driven_Wheels</th>\n",
       "      <th>Vehicle Size</th>\n",
       "      <th>Vehicle Style</th>\n",
       "      <th>highway MPG</th>\n",
       "      <th>city mpg</th>\n",
       "      <th>Popularity</th>\n",
       "      <th>MSRP</th>\n",
       "    </tr>\n",
       "  </thead>\n",
       "  <tbody>\n",
       "    <tr>\n",
       "      <th>0</th>\n",
       "      <td>BMW</td>\n",
       "      <td>1 Series M</td>\n",
       "      <td>2011</td>\n",
       "      <td>335.0</td>\n",
       "      <td>6.0</td>\n",
       "      <td>MANUAL</td>\n",
       "      <td>rear wheel drive</td>\n",
       "      <td>Compact</td>\n",
       "      <td>Coupe</td>\n",
       "      <td>26</td>\n",
       "      <td>19</td>\n",
       "      <td>3916</td>\n",
       "      <td>46135</td>\n",
       "    </tr>\n",
       "    <tr>\n",
       "      <th>1</th>\n",
       "      <td>BMW</td>\n",
       "      <td>1 Series</td>\n",
       "      <td>2011</td>\n",
       "      <td>300.0</td>\n",
       "      <td>6.0</td>\n",
       "      <td>MANUAL</td>\n",
       "      <td>rear wheel drive</td>\n",
       "      <td>Compact</td>\n",
       "      <td>Convertible</td>\n",
       "      <td>28</td>\n",
       "      <td>19</td>\n",
       "      <td>3916</td>\n",
       "      <td>40650</td>\n",
       "    </tr>\n",
       "    <tr>\n",
       "      <th>2</th>\n",
       "      <td>BMW</td>\n",
       "      <td>1 Series</td>\n",
       "      <td>2011</td>\n",
       "      <td>300.0</td>\n",
       "      <td>6.0</td>\n",
       "      <td>MANUAL</td>\n",
       "      <td>rear wheel drive</td>\n",
       "      <td>Compact</td>\n",
       "      <td>Coupe</td>\n",
       "      <td>28</td>\n",
       "      <td>20</td>\n",
       "      <td>3916</td>\n",
       "      <td>36350</td>\n",
       "    </tr>\n",
       "    <tr>\n",
       "      <th>3</th>\n",
       "      <td>BMW</td>\n",
       "      <td>1 Series</td>\n",
       "      <td>2011</td>\n",
       "      <td>230.0</td>\n",
       "      <td>6.0</td>\n",
       "      <td>MANUAL</td>\n",
       "      <td>rear wheel drive</td>\n",
       "      <td>Compact</td>\n",
       "      <td>Coupe</td>\n",
       "      <td>28</td>\n",
       "      <td>18</td>\n",
       "      <td>3916</td>\n",
       "      <td>29450</td>\n",
       "    </tr>\n",
       "    <tr>\n",
       "      <th>4</th>\n",
       "      <td>BMW</td>\n",
       "      <td>1 Series</td>\n",
       "      <td>2011</td>\n",
       "      <td>230.0</td>\n",
       "      <td>6.0</td>\n",
       "      <td>MANUAL</td>\n",
       "      <td>rear wheel drive</td>\n",
       "      <td>Compact</td>\n",
       "      <td>Convertible</td>\n",
       "      <td>28</td>\n",
       "      <td>18</td>\n",
       "      <td>3916</td>\n",
       "      <td>34500</td>\n",
       "    </tr>\n",
       "  </tbody>\n",
       "</table>\n",
       "</div>"
      ],
      "text/plain": [
       "  Make       Model  Year  Engine HP  Engine Cylinders Transmission Type  \\\n",
       "0  BMW  1 Series M  2011      335.0               6.0            MANUAL   \n",
       "1  BMW    1 Series  2011      300.0               6.0            MANUAL   \n",
       "2  BMW    1 Series  2011      300.0               6.0            MANUAL   \n",
       "3  BMW    1 Series  2011      230.0               6.0            MANUAL   \n",
       "4  BMW    1 Series  2011      230.0               6.0            MANUAL   \n",
       "\n",
       "      Driven_Wheels Vehicle Size Vehicle Style  highway MPG  city mpg  \\\n",
       "0  rear wheel drive      Compact         Coupe           26        19   \n",
       "1  rear wheel drive      Compact   Convertible           28        19   \n",
       "2  rear wheel drive      Compact         Coupe           28        20   \n",
       "3  rear wheel drive      Compact         Coupe           28        18   \n",
       "4  rear wheel drive      Compact   Convertible           28        18   \n",
       "\n",
       "   Popularity   MSRP  \n",
       "0        3916  46135  \n",
       "1        3916  40650  \n",
       "2        3916  36350  \n",
       "3        3916  29450  \n",
       "4        3916  34500  "
      ]
     },
     "execution_count": 9,
     "metadata": {},
     "output_type": "execute_result"
    }
   ],
   "source": [
    "\n",
    "df = df.drop(['Engine Fuel Type', 'Number of Doors','Market Category'], axis=1) #these are the colomn to be drop which meant to no use to me .\n",
    "df.head(5)"
   ]
  },
  {
   "cell_type": "markdown",
   "metadata": {
    "papermill": {
     "duration": 0.026527,
     "end_time": "2020-08-22T08:22:37.510341",
     "exception": false,
     "start_time": "2020-08-22T08:22:37.483814",
     "status": "completed"
    },
    "tags": []
   },
   "source": [
    "# STEP 3 RENAMING THE COLOMN AS MENTION"
   ]
  },
  {
   "cell_type": "code",
   "execution_count": 10,
   "metadata": {
    "execution": {
     "iopub.execute_input": "2020-08-22T08:22:37.572528Z",
     "iopub.status.busy": "2020-08-22T08:22:37.570616Z",
     "iopub.status.idle": "2020-08-22T08:22:37.596830Z",
     "shell.execute_reply": "2020-08-22T08:22:37.596018Z"
    },
    "papermill": {
     "duration": 0.059997,
     "end_time": "2020-08-22T08:22:37.597003",
     "exception": false,
     "start_time": "2020-08-22T08:22:37.537006",
     "status": "completed"
    },
    "tags": []
   },
   "outputs": [
    {
     "data": {
      "text/html": [
       "<div>\n",
       "<style scoped>\n",
       "    .dataframe tbody tr th:only-of-type {\n",
       "        vertical-align: middle;\n",
       "    }\n",
       "\n",
       "    .dataframe tbody tr th {\n",
       "        vertical-align: top;\n",
       "    }\n",
       "\n",
       "    .dataframe thead th {\n",
       "        text-align: right;\n",
       "    }\n",
       "</style>\n",
       "<table border=\"1\" class=\"dataframe\">\n",
       "  <thead>\n",
       "    <tr style=\"text-align: right;\">\n",
       "      <th></th>\n",
       "      <th>Make</th>\n",
       "      <th>Model</th>\n",
       "      <th>Year</th>\n",
       "      <th>HP</th>\n",
       "      <th>Cylinders</th>\n",
       "      <th>Transmission</th>\n",
       "      <th>Drive Mode</th>\n",
       "      <th>Vehicle Size</th>\n",
       "      <th>Vehicle Style</th>\n",
       "      <th>MPG-H</th>\n",
       "      <th>MPG-C</th>\n",
       "      <th>Popularity</th>\n",
       "      <th>Price</th>\n",
       "    </tr>\n",
       "  </thead>\n",
       "  <tbody>\n",
       "    <tr>\n",
       "      <th>0</th>\n",
       "      <td>BMW</td>\n",
       "      <td>1 Series M</td>\n",
       "      <td>2011</td>\n",
       "      <td>335.0</td>\n",
       "      <td>6.0</td>\n",
       "      <td>MANUAL</td>\n",
       "      <td>rear wheel drive</td>\n",
       "      <td>Compact</td>\n",
       "      <td>Coupe</td>\n",
       "      <td>26</td>\n",
       "      <td>19</td>\n",
       "      <td>3916</td>\n",
       "      <td>46135</td>\n",
       "    </tr>\n",
       "    <tr>\n",
       "      <th>1</th>\n",
       "      <td>BMW</td>\n",
       "      <td>1 Series</td>\n",
       "      <td>2011</td>\n",
       "      <td>300.0</td>\n",
       "      <td>6.0</td>\n",
       "      <td>MANUAL</td>\n",
       "      <td>rear wheel drive</td>\n",
       "      <td>Compact</td>\n",
       "      <td>Convertible</td>\n",
       "      <td>28</td>\n",
       "      <td>19</td>\n",
       "      <td>3916</td>\n",
       "      <td>40650</td>\n",
       "    </tr>\n",
       "    <tr>\n",
       "      <th>2</th>\n",
       "      <td>BMW</td>\n",
       "      <td>1 Series</td>\n",
       "      <td>2011</td>\n",
       "      <td>300.0</td>\n",
       "      <td>6.0</td>\n",
       "      <td>MANUAL</td>\n",
       "      <td>rear wheel drive</td>\n",
       "      <td>Compact</td>\n",
       "      <td>Coupe</td>\n",
       "      <td>28</td>\n",
       "      <td>20</td>\n",
       "      <td>3916</td>\n",
       "      <td>36350</td>\n",
       "    </tr>\n",
       "    <tr>\n",
       "      <th>3</th>\n",
       "      <td>BMW</td>\n",
       "      <td>1 Series</td>\n",
       "      <td>2011</td>\n",
       "      <td>230.0</td>\n",
       "      <td>6.0</td>\n",
       "      <td>MANUAL</td>\n",
       "      <td>rear wheel drive</td>\n",
       "      <td>Compact</td>\n",
       "      <td>Coupe</td>\n",
       "      <td>28</td>\n",
       "      <td>18</td>\n",
       "      <td>3916</td>\n",
       "      <td>29450</td>\n",
       "    </tr>\n",
       "    <tr>\n",
       "      <th>4</th>\n",
       "      <td>BMW</td>\n",
       "      <td>1 Series</td>\n",
       "      <td>2011</td>\n",
       "      <td>230.0</td>\n",
       "      <td>6.0</td>\n",
       "      <td>MANUAL</td>\n",
       "      <td>rear wheel drive</td>\n",
       "      <td>Compact</td>\n",
       "      <td>Convertible</td>\n",
       "      <td>28</td>\n",
       "      <td>18</td>\n",
       "      <td>3916</td>\n",
       "      <td>34500</td>\n",
       "    </tr>\n",
       "  </tbody>\n",
       "</table>\n",
       "</div>"
      ],
      "text/plain": [
       "  Make       Model  Year     HP  Cylinders Transmission        Drive Mode  \\\n",
       "0  BMW  1 Series M  2011  335.0        6.0       MANUAL  rear wheel drive   \n",
       "1  BMW    1 Series  2011  300.0        6.0       MANUAL  rear wheel drive   \n",
       "2  BMW    1 Series  2011  300.0        6.0       MANUAL  rear wheel drive   \n",
       "3  BMW    1 Series  2011  230.0        6.0       MANUAL  rear wheel drive   \n",
       "4  BMW    1 Series  2011  230.0        6.0       MANUAL  rear wheel drive   \n",
       "\n",
       "  Vehicle Size Vehicle Style  MPG-H  MPG-C  Popularity  Price  \n",
       "0      Compact         Coupe     26     19        3916  46135  \n",
       "1      Compact   Convertible     28     19        3916  40650  \n",
       "2      Compact         Coupe     28     20        3916  36350  \n",
       "3      Compact         Coupe     28     18        3916  29450  \n",
       "4      Compact   Convertible     28     18        3916  34500  "
      ]
     },
     "execution_count": 10,
     "metadata": {},
     "output_type": "execute_result"
    }
   ],
   "source": [
    "df = df.rename(columns={\"Engine HP\": \"HP\", \"Engine Cylinders\": \"Cylinders\", \"Transmission Type\": \"Transmission\", \"Driven_Wheels\": \"Drive Mode\",\"highway MPG\": \"MPG-H\", \"city mpg\": \"MPG-C\", \"MSRP\": \"Price\" })\n",
    "df.head(5) #Renaming the coloumn"
   ]
  },
  {
   "cell_type": "markdown",
   "metadata": {
    "papermill": {
     "duration": 0.026616,
     "end_time": "2020-08-22T08:22:37.651244",
     "exception": false,
     "start_time": "2020-08-22T08:22:37.624628",
     "status": "completed"
    },
    "tags": []
   },
   "source": [
    "# REPRESENTING TOP ROWS AFTER RENAMING"
   ]
  },
  {
   "cell_type": "code",
   "execution_count": 11,
   "metadata": {
    "execution": {
     "iopub.execute_input": "2020-08-22T08:22:37.731048Z",
     "iopub.status.busy": "2020-08-22T08:22:37.729913Z",
     "iopub.status.idle": "2020-08-22T08:22:37.735670Z",
     "shell.execute_reply": "2020-08-22T08:22:37.735001Z"
    },
    "papermill": {
     "duration": 0.056993,
     "end_time": "2020-08-22T08:22:37.735813",
     "exception": false,
     "start_time": "2020-08-22T08:22:37.678820",
     "status": "completed"
    },
    "tags": []
   },
   "outputs": [
    {
     "data": {
      "text/html": [
       "<div>\n",
       "<style scoped>\n",
       "    .dataframe tbody tr th:only-of-type {\n",
       "        vertical-align: middle;\n",
       "    }\n",
       "\n",
       "    .dataframe tbody tr th {\n",
       "        vertical-align: top;\n",
       "    }\n",
       "\n",
       "    .dataframe thead th {\n",
       "        text-align: right;\n",
       "    }\n",
       "</style>\n",
       "<table border=\"1\" class=\"dataframe\">\n",
       "  <thead>\n",
       "    <tr style=\"text-align: right;\">\n",
       "      <th></th>\n",
       "      <th>Make</th>\n",
       "      <th>Model</th>\n",
       "      <th>Year</th>\n",
       "      <th>HP</th>\n",
       "      <th>Cylinders</th>\n",
       "      <th>Transmission</th>\n",
       "      <th>Drive Mode</th>\n",
       "      <th>Vehicle Size</th>\n",
       "      <th>Vehicle Style</th>\n",
       "      <th>MPG-H</th>\n",
       "      <th>MPG-C</th>\n",
       "      <th>Popularity</th>\n",
       "      <th>Price</th>\n",
       "    </tr>\n",
       "  </thead>\n",
       "  <tbody>\n",
       "    <tr>\n",
       "      <th>0</th>\n",
       "      <td>BMW</td>\n",
       "      <td>1 Series M</td>\n",
       "      <td>2011</td>\n",
       "      <td>335.0</td>\n",
       "      <td>6.0</td>\n",
       "      <td>MANUAL</td>\n",
       "      <td>rear wheel drive</td>\n",
       "      <td>Compact</td>\n",
       "      <td>Coupe</td>\n",
       "      <td>26</td>\n",
       "      <td>19</td>\n",
       "      <td>3916</td>\n",
       "      <td>46135</td>\n",
       "    </tr>\n",
       "    <tr>\n",
       "      <th>1</th>\n",
       "      <td>BMW</td>\n",
       "      <td>1 Series</td>\n",
       "      <td>2011</td>\n",
       "      <td>300.0</td>\n",
       "      <td>6.0</td>\n",
       "      <td>MANUAL</td>\n",
       "      <td>rear wheel drive</td>\n",
       "      <td>Compact</td>\n",
       "      <td>Convertible</td>\n",
       "      <td>28</td>\n",
       "      <td>19</td>\n",
       "      <td>3916</td>\n",
       "      <td>40650</td>\n",
       "    </tr>\n",
       "    <tr>\n",
       "      <th>2</th>\n",
       "      <td>BMW</td>\n",
       "      <td>1 Series</td>\n",
       "      <td>2011</td>\n",
       "      <td>300.0</td>\n",
       "      <td>6.0</td>\n",
       "      <td>MANUAL</td>\n",
       "      <td>rear wheel drive</td>\n",
       "      <td>Compact</td>\n",
       "      <td>Coupe</td>\n",
       "      <td>28</td>\n",
       "      <td>20</td>\n",
       "      <td>3916</td>\n",
       "      <td>36350</td>\n",
       "    </tr>\n",
       "    <tr>\n",
       "      <th>3</th>\n",
       "      <td>BMW</td>\n",
       "      <td>1 Series</td>\n",
       "      <td>2011</td>\n",
       "      <td>230.0</td>\n",
       "      <td>6.0</td>\n",
       "      <td>MANUAL</td>\n",
       "      <td>rear wheel drive</td>\n",
       "      <td>Compact</td>\n",
       "      <td>Coupe</td>\n",
       "      <td>28</td>\n",
       "      <td>18</td>\n",
       "      <td>3916</td>\n",
       "      <td>29450</td>\n",
       "    </tr>\n",
       "    <tr>\n",
       "      <th>4</th>\n",
       "      <td>BMW</td>\n",
       "      <td>1 Series</td>\n",
       "      <td>2011</td>\n",
       "      <td>230.0</td>\n",
       "      <td>6.0</td>\n",
       "      <td>MANUAL</td>\n",
       "      <td>rear wheel drive</td>\n",
       "      <td>Compact</td>\n",
       "      <td>Convertible</td>\n",
       "      <td>28</td>\n",
       "      <td>18</td>\n",
       "      <td>3916</td>\n",
       "      <td>34500</td>\n",
       "    </tr>\n",
       "    <tr>\n",
       "      <th>5</th>\n",
       "      <td>BMW</td>\n",
       "      <td>1 Series</td>\n",
       "      <td>2012</td>\n",
       "      <td>230.0</td>\n",
       "      <td>6.0</td>\n",
       "      <td>MANUAL</td>\n",
       "      <td>rear wheel drive</td>\n",
       "      <td>Compact</td>\n",
       "      <td>Coupe</td>\n",
       "      <td>28</td>\n",
       "      <td>18</td>\n",
       "      <td>3916</td>\n",
       "      <td>31200</td>\n",
       "    </tr>\n",
       "    <tr>\n",
       "      <th>6</th>\n",
       "      <td>BMW</td>\n",
       "      <td>1 Series</td>\n",
       "      <td>2012</td>\n",
       "      <td>300.0</td>\n",
       "      <td>6.0</td>\n",
       "      <td>MANUAL</td>\n",
       "      <td>rear wheel drive</td>\n",
       "      <td>Compact</td>\n",
       "      <td>Convertible</td>\n",
       "      <td>26</td>\n",
       "      <td>17</td>\n",
       "      <td>3916</td>\n",
       "      <td>44100</td>\n",
       "    </tr>\n",
       "    <tr>\n",
       "      <th>7</th>\n",
       "      <td>BMW</td>\n",
       "      <td>1 Series</td>\n",
       "      <td>2012</td>\n",
       "      <td>300.0</td>\n",
       "      <td>6.0</td>\n",
       "      <td>MANUAL</td>\n",
       "      <td>rear wheel drive</td>\n",
       "      <td>Compact</td>\n",
       "      <td>Coupe</td>\n",
       "      <td>28</td>\n",
       "      <td>20</td>\n",
       "      <td>3916</td>\n",
       "      <td>39300</td>\n",
       "    </tr>\n",
       "    <tr>\n",
       "      <th>8</th>\n",
       "      <td>BMW</td>\n",
       "      <td>1 Series</td>\n",
       "      <td>2012</td>\n",
       "      <td>230.0</td>\n",
       "      <td>6.0</td>\n",
       "      <td>MANUAL</td>\n",
       "      <td>rear wheel drive</td>\n",
       "      <td>Compact</td>\n",
       "      <td>Convertible</td>\n",
       "      <td>28</td>\n",
       "      <td>18</td>\n",
       "      <td>3916</td>\n",
       "      <td>36900</td>\n",
       "    </tr>\n",
       "    <tr>\n",
       "      <th>9</th>\n",
       "      <td>BMW</td>\n",
       "      <td>1 Series</td>\n",
       "      <td>2013</td>\n",
       "      <td>230.0</td>\n",
       "      <td>6.0</td>\n",
       "      <td>MANUAL</td>\n",
       "      <td>rear wheel drive</td>\n",
       "      <td>Compact</td>\n",
       "      <td>Convertible</td>\n",
       "      <td>27</td>\n",
       "      <td>18</td>\n",
       "      <td>3916</td>\n",
       "      <td>37200</td>\n",
       "    </tr>\n",
       "  </tbody>\n",
       "</table>\n",
       "</div>"
      ],
      "text/plain": [
       "  Make       Model  Year     HP  Cylinders Transmission        Drive Mode  \\\n",
       "0  BMW  1 Series M  2011  335.0        6.0       MANUAL  rear wheel drive   \n",
       "1  BMW    1 Series  2011  300.0        6.0       MANUAL  rear wheel drive   \n",
       "2  BMW    1 Series  2011  300.0        6.0       MANUAL  rear wheel drive   \n",
       "3  BMW    1 Series  2011  230.0        6.0       MANUAL  rear wheel drive   \n",
       "4  BMW    1 Series  2011  230.0        6.0       MANUAL  rear wheel drive   \n",
       "5  BMW    1 Series  2012  230.0        6.0       MANUAL  rear wheel drive   \n",
       "6  BMW    1 Series  2012  300.0        6.0       MANUAL  rear wheel drive   \n",
       "7  BMW    1 Series  2012  300.0        6.0       MANUAL  rear wheel drive   \n",
       "8  BMW    1 Series  2012  230.0        6.0       MANUAL  rear wheel drive   \n",
       "9  BMW    1 Series  2013  230.0        6.0       MANUAL  rear wheel drive   \n",
       "\n",
       "  Vehicle Size Vehicle Style  MPG-H  MPG-C  Popularity  Price  \n",
       "0      Compact         Coupe     26     19        3916  46135  \n",
       "1      Compact   Convertible     28     19        3916  40650  \n",
       "2      Compact         Coupe     28     20        3916  36350  \n",
       "3      Compact         Coupe     28     18        3916  29450  \n",
       "4      Compact   Convertible     28     18        3916  34500  \n",
       "5      Compact         Coupe     28     18        3916  31200  \n",
       "6      Compact   Convertible     26     17        3916  44100  \n",
       "7      Compact         Coupe     28     20        3916  39300  \n",
       "8      Compact   Convertible     28     18        3916  36900  \n",
       "9      Compact   Convertible     27     18        3916  37200  "
      ]
     },
     "execution_count": 11,
     "metadata": {},
     "output_type": "execute_result"
    }
   ],
   "source": [
    "df.head(10) #data after rename"
   ]
  },
  {
   "cell_type": "markdown",
   "metadata": {
    "papermill": {
     "duration": 0.026752,
     "end_time": "2020-08-22T08:22:37.789922",
     "exception": false,
     "start_time": "2020-08-22T08:22:37.763170",
     "status": "completed"
    },
    "tags": []
   },
   "source": [
    "\n",
    "# STEP 4 CHECKING THE NULL VALUES AFTER RENAMING and droping the coloumn"
   ]
  },
  {
   "cell_type": "code",
   "execution_count": 12,
   "metadata": {
    "execution": {
     "iopub.execute_input": "2020-08-22T08:22:37.859655Z",
     "iopub.status.busy": "2020-08-22T08:22:37.858474Z",
     "iopub.status.idle": "2020-08-22T08:22:37.883731Z",
     "shell.execute_reply": "2020-08-22T08:22:37.882669Z"
    },
    "papermill": {
     "duration": 0.066784,
     "end_time": "2020-08-22T08:22:37.884016",
     "exception": false,
     "start_time": "2020-08-22T08:22:37.817232",
     "status": "completed"
    },
    "tags": []
   },
   "outputs": [
    {
     "data": {
      "text/plain": [
       "Make              0\n",
       "Model             0\n",
       "Year              0\n",
       "HP               69\n",
       "Cylinders        30\n",
       "Transmission      0\n",
       "Drive Mode        0\n",
       "Vehicle Size      0\n",
       "Vehicle Style     0\n",
       "MPG-H             0\n",
       "MPG-C             0\n",
       "Popularity        0\n",
       "Price             0\n",
       "dtype: int64"
      ]
     },
     "execution_count": 12,
     "metadata": {},
     "output_type": "execute_result"
    }
   ],
   "source": [
    "df.isnull().sum() #checking null values after dropping the coloumn  ."
   ]
  },
  {
   "cell_type": "markdown",
   "metadata": {
    "papermill": {
     "duration": 0.042183,
     "end_time": "2020-08-22T08:22:37.967745",
     "exception": false,
     "start_time": "2020-08-22T08:22:37.925562",
     "status": "completed"
    },
    "tags": []
   },
   "source": [
    "# DISPLAYING THE SHAPE OF DATFRAME AFTER REMOVING DUPLICATES"
   ]
  },
  {
   "cell_type": "code",
   "execution_count": 13,
   "metadata": {
    "execution": {
     "iopub.execute_input": "2020-08-22T08:22:38.044672Z",
     "iopub.status.busy": "2020-08-22T08:22:38.043559Z",
     "iopub.status.idle": "2020-08-22T08:22:38.049520Z",
     "shell.execute_reply": "2020-08-22T08:22:38.048700Z"
    },
    "papermill": {
     "duration": 0.049593,
     "end_time": "2020-08-22T08:22:38.049673",
     "exception": false,
     "start_time": "2020-08-22T08:22:38.000080",
     "status": "completed"
    },
    "tags": []
   },
   "outputs": [
    {
     "data": {
      "text/plain": [
       "(11914, 13)"
      ]
     },
     "execution_count": 13,
     "metadata": {},
     "output_type": "execute_result"
    }
   ],
   "source": [
    "df.shape #Total number of rows and columns"
   ]
  },
  {
   "cell_type": "markdown",
   "metadata": {
    "papermill": {
     "duration": 0.029934,
     "end_time": "2020-08-22T08:22:38.110432",
     "exception": false,
     "start_time": "2020-08-22T08:22:38.080498",
     "status": "completed"
    },
    "tags": []
   },
   "source": [
    "\n",
    "# STEP 4 CHECKING FOR DUPLICATES VALUES IN THE GIVEN DATA FRAME"
   ]
  },
  {
   "cell_type": "code",
   "execution_count": 14,
   "metadata": {
    "execution": {
     "iopub.execute_input": "2020-08-22T08:22:38.176019Z",
     "iopub.status.busy": "2020-08-22T08:22:38.175189Z",
     "iopub.status.idle": "2020-08-22T08:22:38.199124Z",
     "shell.execute_reply": "2020-08-22T08:22:38.198195Z"
    },
    "papermill": {
     "duration": 0.060924,
     "end_time": "2020-08-22T08:22:38.199319",
     "exception": false,
     "start_time": "2020-08-22T08:22:38.138395",
     "status": "completed"
    },
    "tags": []
   },
   "outputs": [
    {
     "name": "stdout",
     "output_type": "stream",
     "text": [
      "number of duplicate rows:  (792, 13)\n"
     ]
    }
   ],
   "source": [
    "duplicate_rows_df = df[df.duplicated()]\n",
    "print(\"number of duplicate rows: \", duplicate_rows_df.shape)"
   ]
  },
  {
   "cell_type": "markdown",
   "metadata": {
    "papermill": {
     "duration": 0.027507,
     "end_time": "2020-08-22T08:22:38.255812",
     "exception": false,
     "start_time": "2020-08-22T08:22:38.228305",
     "status": "completed"
    },
    "tags": []
   },
   "source": [
    "# STEP 4 DROPPING DUPLICATES VALUES¶"
   ]
  },
  {
   "cell_type": "code",
   "execution_count": 15,
   "metadata": {
    "execution": {
     "iopub.execute_input": "2020-08-22T08:22:38.401684Z",
     "iopub.status.busy": "2020-08-22T08:22:38.400479Z",
     "iopub.status.idle": "2020-08-22T08:22:38.434847Z",
     "shell.execute_reply": "2020-08-22T08:22:38.434010Z"
    },
    "papermill": {
     "duration": 0.075598,
     "end_time": "2020-08-22T08:22:38.435022",
     "exception": false,
     "start_time": "2020-08-22T08:22:38.359424",
     "status": "completed"
    },
    "tags": []
   },
   "outputs": [
    {
     "data": {
      "text/html": [
       "<div>\n",
       "<style scoped>\n",
       "    .dataframe tbody tr th:only-of-type {\n",
       "        vertical-align: middle;\n",
       "    }\n",
       "\n",
       "    .dataframe tbody tr th {\n",
       "        vertical-align: top;\n",
       "    }\n",
       "\n",
       "    .dataframe thead th {\n",
       "        text-align: right;\n",
       "    }\n",
       "</style>\n",
       "<table border=\"1\" class=\"dataframe\">\n",
       "  <thead>\n",
       "    <tr style=\"text-align: right;\">\n",
       "      <th></th>\n",
       "      <th>Make</th>\n",
       "      <th>Model</th>\n",
       "      <th>Year</th>\n",
       "      <th>HP</th>\n",
       "      <th>Cylinders</th>\n",
       "      <th>Transmission</th>\n",
       "      <th>Drive Mode</th>\n",
       "      <th>Vehicle Size</th>\n",
       "      <th>Vehicle Style</th>\n",
       "      <th>MPG-H</th>\n",
       "      <th>MPG-C</th>\n",
       "      <th>Popularity</th>\n",
       "      <th>Price</th>\n",
       "    </tr>\n",
       "  </thead>\n",
       "  <tbody>\n",
       "    <tr>\n",
       "      <th>0</th>\n",
       "      <td>BMW</td>\n",
       "      <td>1 Series M</td>\n",
       "      <td>2011</td>\n",
       "      <td>335.0</td>\n",
       "      <td>6.0</td>\n",
       "      <td>MANUAL</td>\n",
       "      <td>rear wheel drive</td>\n",
       "      <td>Compact</td>\n",
       "      <td>Coupe</td>\n",
       "      <td>26</td>\n",
       "      <td>19</td>\n",
       "      <td>3916</td>\n",
       "      <td>46135</td>\n",
       "    </tr>\n",
       "    <tr>\n",
       "      <th>1</th>\n",
       "      <td>BMW</td>\n",
       "      <td>1 Series</td>\n",
       "      <td>2011</td>\n",
       "      <td>300.0</td>\n",
       "      <td>6.0</td>\n",
       "      <td>MANUAL</td>\n",
       "      <td>rear wheel drive</td>\n",
       "      <td>Compact</td>\n",
       "      <td>Convertible</td>\n",
       "      <td>28</td>\n",
       "      <td>19</td>\n",
       "      <td>3916</td>\n",
       "      <td>40650</td>\n",
       "    </tr>\n",
       "    <tr>\n",
       "      <th>2</th>\n",
       "      <td>BMW</td>\n",
       "      <td>1 Series</td>\n",
       "      <td>2011</td>\n",
       "      <td>300.0</td>\n",
       "      <td>6.0</td>\n",
       "      <td>MANUAL</td>\n",
       "      <td>rear wheel drive</td>\n",
       "      <td>Compact</td>\n",
       "      <td>Coupe</td>\n",
       "      <td>28</td>\n",
       "      <td>20</td>\n",
       "      <td>3916</td>\n",
       "      <td>36350</td>\n",
       "    </tr>\n",
       "    <tr>\n",
       "      <th>3</th>\n",
       "      <td>BMW</td>\n",
       "      <td>1 Series</td>\n",
       "      <td>2011</td>\n",
       "      <td>230.0</td>\n",
       "      <td>6.0</td>\n",
       "      <td>MANUAL</td>\n",
       "      <td>rear wheel drive</td>\n",
       "      <td>Compact</td>\n",
       "      <td>Coupe</td>\n",
       "      <td>28</td>\n",
       "      <td>18</td>\n",
       "      <td>3916</td>\n",
       "      <td>29450</td>\n",
       "    </tr>\n",
       "    <tr>\n",
       "      <th>4</th>\n",
       "      <td>BMW</td>\n",
       "      <td>1 Series</td>\n",
       "      <td>2011</td>\n",
       "      <td>230.0</td>\n",
       "      <td>6.0</td>\n",
       "      <td>MANUAL</td>\n",
       "      <td>rear wheel drive</td>\n",
       "      <td>Compact</td>\n",
       "      <td>Convertible</td>\n",
       "      <td>28</td>\n",
       "      <td>18</td>\n",
       "      <td>3916</td>\n",
       "      <td>34500</td>\n",
       "    </tr>\n",
       "  </tbody>\n",
       "</table>\n",
       "</div>"
      ],
      "text/plain": [
       "  Make       Model  Year     HP  Cylinders Transmission        Drive Mode  \\\n",
       "0  BMW  1 Series M  2011  335.0        6.0       MANUAL  rear wheel drive   \n",
       "1  BMW    1 Series  2011  300.0        6.0       MANUAL  rear wheel drive   \n",
       "2  BMW    1 Series  2011  300.0        6.0       MANUAL  rear wheel drive   \n",
       "3  BMW    1 Series  2011  230.0        6.0       MANUAL  rear wheel drive   \n",
       "4  BMW    1 Series  2011  230.0        6.0       MANUAL  rear wheel drive   \n",
       "\n",
       "  Vehicle Size Vehicle Style  MPG-H  MPG-C  Popularity  Price  \n",
       "0      Compact         Coupe     26     19        3916  46135  \n",
       "1      Compact   Convertible     28     19        3916  40650  \n",
       "2      Compact         Coupe     28     20        3916  36350  \n",
       "3      Compact         Coupe     28     18        3916  29450  \n",
       "4      Compact   Convertible     28     18        3916  34500  "
      ]
     },
     "execution_count": 15,
     "metadata": {},
     "output_type": "execute_result"
    }
   ],
   "source": [
    "\n",
    "df = df.drop_duplicates()\n",
    "df.head(5)"
   ]
  },
  {
   "cell_type": "markdown",
   "metadata": {
    "papermill": {
     "duration": 0.028194,
     "end_time": "2020-08-22T08:22:38.492170",
     "exception": false,
     "start_time": "2020-08-22T08:22:38.463976",
     "status": "completed"
    },
    "tags": []
   },
   "source": [
    "# SHAPE OF THE DATA FRAME AFTER DROPPING DUPLICATES VALUES"
   ]
  },
  {
   "cell_type": "code",
   "execution_count": 16,
   "metadata": {
    "execution": {
     "iopub.execute_input": "2020-08-22T08:22:38.557517Z",
     "iopub.status.busy": "2020-08-22T08:22:38.556381Z",
     "iopub.status.idle": "2020-08-22T08:22:38.560842Z",
     "shell.execute_reply": "2020-08-22T08:22:38.560181Z"
    },
    "papermill": {
     "duration": 0.039908,
     "end_time": "2020-08-22T08:22:38.561002",
     "exception": false,
     "start_time": "2020-08-22T08:22:38.521094",
     "status": "completed"
    },
    "tags": []
   },
   "outputs": [
    {
     "data": {
      "text/plain": [
       "(11122, 13)"
      ]
     },
     "execution_count": 16,
     "metadata": {},
     "output_type": "execute_result"
    }
   ],
   "source": [
    "df.shape #Total number of rows and columnsafter dropping the values"
   ]
  },
  {
   "cell_type": "markdown",
   "metadata": {
    "papermill": {
     "duration": 0.028142,
     "end_time": "2020-08-22T08:22:38.617543",
     "exception": false,
     "start_time": "2020-08-22T08:22:38.589401",
     "status": "completed"
    },
    "tags": []
   },
   "source": [
    "# STEP 4 DROPPING THE NULL VALUES AND COUNTING THE NUMBER OF ROWS"
   ]
  },
  {
   "cell_type": "code",
   "execution_count": 17,
   "metadata": {
    "execution": {
     "iopub.execute_input": "2020-08-22T08:22:38.689678Z",
     "iopub.status.busy": "2020-08-22T08:22:38.688682Z",
     "iopub.status.idle": "2020-08-22T08:22:38.712681Z",
     "shell.execute_reply": "2020-08-22T08:22:38.713300Z"
    },
    "papermill": {
     "duration": 0.067351,
     "end_time": "2020-08-22T08:22:38.713532",
     "exception": false,
     "start_time": "2020-08-22T08:22:38.646181",
     "status": "completed"
    },
    "tags": []
   },
   "outputs": [
    {
     "data": {
      "text/plain": [
       "Make             11024\n",
       "Model            11024\n",
       "Year             11024\n",
       "HP               11024\n",
       "Cylinders        11024\n",
       "Transmission     11024\n",
       "Drive Mode       11024\n",
       "Vehicle Size     11024\n",
       "Vehicle Style    11024\n",
       "MPG-H            11024\n",
       "MPG-C            11024\n",
       "Popularity       11024\n",
       "Price            11024\n",
       "dtype: int64"
      ]
     },
     "execution_count": 17,
     "metadata": {},
     "output_type": "execute_result"
    }
   ],
   "source": [
    "df = df.dropna()\n",
    "df.count()"
   ]
  },
  {
   "cell_type": "markdown",
   "metadata": {
    "papermill": {
     "duration": 0.030723,
     "end_time": "2020-08-22T08:22:38.773446",
     "exception": false,
     "start_time": "2020-08-22T08:22:38.742723",
     "status": "completed"
    },
    "tags": []
   },
   "source": [
    "\n",
    "# STEP 5 PLOTTING OF DIFF TYPES OF GRAPHS FOR CHECKING OUTLIERS"
   ]
  },
  {
   "cell_type": "markdown",
   "metadata": {
    "papermill": {
     "duration": 0.028793,
     "end_time": "2020-08-22T08:22:38.831040",
     "exception": false,
     "start_time": "2020-08-22T08:22:38.802247",
     "status": "completed"
    },
    "tags": []
   },
   "source": [
    "\n",
    "Outliers Just like missing values, your data might also contain values that diverge heavily from the big majority of your other data. These data points are called “outliers”. To find them, you can check the distribution of your single variables by means of a box** plot or you can make a scatter plot of your data to identify data points that don’t lie in the “expected” area of the plot.\n",
    "\n",
    "The causes for outliers in your data might vary, going from system errors to people interfering with the data through data entry or data processing, but it’s important to consider the effect that they can have on your analysis: they will change the result of statistical tests such as standard deviation, mean or median, they can potentially decrease the normality and impact the results of statistical models, such as regression or ANOVA.\n",
    "\n",
    "To deal with outliers, you can either delete, transform, or impute them: the decision will again depend on the data context. That’s why it’s again important to understand your data and identify the cause for the outliers:\n",
    "\n",
    "If the outlier value is due to data entry or data processing errors, you might consider deleting the value. You can transform the outliers by assigning weights to your observations or use the natural log to reduce the variation that the outlier values in your data set cause. Just like the missing values, you can also use imputation methods to replace the extreme values of your data with median, mean or mode values.\n",
    "\n",
    "You can use the functions that were described in the above section to deal with outliers in your data.**"
   ]
  },
  {
   "cell_type": "markdown",
   "metadata": {
    "papermill": {
     "duration": 0.029261,
     "end_time": "2020-08-22T08:22:38.889046",
     "exception": false,
     "start_time": "2020-08-22T08:22:38.859785",
     "status": "completed"
    },
    "tags": []
   },
   "source": [
    " \n",
    "# BOX PLOT GRAPHS FOR DIFFERENT CATEGORIEs BEFORE REMOVING OUTLIERS"
   ]
  },
  {
   "cell_type": "code",
   "execution_count": 18,
   "metadata": {
    "execution": {
     "iopub.execute_input": "2020-08-22T08:22:38.955256Z",
     "iopub.status.busy": "2020-08-22T08:22:38.954176Z",
     "iopub.status.idle": "2020-08-22T08:22:39.277973Z",
     "shell.execute_reply": "2020-08-22T08:22:39.277141Z"
    },
    "papermill": {
     "duration": 0.360349,
     "end_time": "2020-08-22T08:22:39.278143",
     "exception": false,
     "start_time": "2020-08-22T08:22:38.917794",
     "status": "completed"
    },
    "tags": []
   },
   "outputs": [
    {
     "data": {
      "text/plain": [
       "<matplotlib.axes._subplots.AxesSubplot at 0x206bd00aa58>"
      ]
     },
     "execution_count": 18,
     "metadata": {},
     "output_type": "execute_result"
    },
    {
     "data": {
      "image/png": "[encoded data removed]",
      "text/plain": [
       "<Figure size 432x288 with 1 Axes>"
      ]
     },
     "metadata": {
      "needs_background": "light"
     },
     "output_type": "display_data"
    }
   ],
   "source": [
    "sns.boxplot(x=df['Price'])"
   ]
  },
  {
   "cell_type": "markdown",
   "metadata": {
    "papermill": {
     "duration": 0.029365,
     "end_time": "2020-08-22T08:22:39.336937",
     "exception": false,
     "start_time": "2020-08-22T08:22:39.307572",
     "status": "completed"
    },
    "tags": []
   },
   "source": []
  },
  {
   "cell_type": "code",
   "execution_count": 19,
   "metadata": {
    "execution": {
     "iopub.execute_input": "2020-08-22T08:22:39.416908Z",
     "iopub.status.busy": "2020-08-22T08:22:39.416029Z",
     "iopub.status.idle": "2020-08-22T08:22:39.670282Z",
     "shell.execute_reply": "2020-08-22T08:22:39.669487Z"
    },
    "papermill": {
     "duration": 0.303163,
     "end_time": "2020-08-22T08:22:39.670431",
     "exception": false,
     "start_time": "2020-08-22T08:22:39.367268",
     "status": "completed"
    },
    "tags": []
   },
   "outputs": [
    {
     "data": {
      "text/plain": [
       "<matplotlib.axes._subplots.AxesSubplot at 0x206bd2f5780>"
      ]
     },
     "execution_count": 19,
     "metadata": {},
     "output_type": "execute_result"
    },
    {
     "data": {
      "image/png": "[encoded data removed]",
      "text/plain": [
       "<Figure size 432x288 with 1 Axes>"
      ]
     },
     "metadata": {
      "needs_background": "light"
     },
     "output_type": "display_data"
    }
   ],
   "source": [
    "sns.boxplot(x=df['HP'])"
   ]
  },
  {
   "cell_type": "code",
   "execution_count": 20,
   "metadata": {
    "execution": {
     "iopub.execute_input": "2020-08-22T08:22:39.875381Z",
     "iopub.status.busy": "2020-08-22T08:22:39.743458Z",
     "iopub.status.idle": "2020-08-22T08:22:40.179316Z",
     "shell.execute_reply": "2020-08-22T08:22:40.178505Z"
    },
    "papermill": {
     "duration": 0.479118,
     "end_time": "2020-08-22T08:22:40.179464",
     "exception": false,
     "start_time": "2020-08-22T08:22:39.700346",
     "status": "completed"
    },
    "tags": []
   },
   "outputs": [
    {
     "data": {
      "text/plain": [
       "<matplotlib.axes._subplots.AxesSubplot at 0x206bd37ba58>"
      ]
     },
     "execution_count": 20,
     "metadata": {},
     "output_type": "execute_result"
    },
    {
     "data": {
      "image/png": "[encoded data removed]",
      "text/plain": [
       "<Figure size 432x288 with 1 Axes>"
      ]
     },
     "metadata": {
      "needs_background": "light"
     },
     "output_type": "display_data"
    }
   ],
   "source": [
    "sns.boxplot(x=df['Cylinders'])"
   ]
  },
  {
   "cell_type": "markdown",
   "metadata": {
    "papermill": {
     "duration": 0.029495,
     "end_time": "2020-08-22T08:22:40.238864",
     "exception": false,
     "start_time": "2020-08-22T08:22:40.209369",
     "status": "completed"
    },
    "tags": []
   },
   "source": [
    "\n",
    "# STEP 5 REMOVING OUTLIERS USING IQR METHOD"
   ]
  },
  {
   "cell_type": "code",
   "execution_count": 21,
   "metadata": {
    "execution": {
     "iopub.execute_input": "2020-08-22T08:22:40.307674Z",
     "iopub.status.busy": "2020-08-22T08:22:40.306668Z",
     "iopub.status.idle": "2020-08-22T08:22:40.317757Z",
     "shell.execute_reply": "2020-08-22T08:22:40.316732Z"
    },
    "papermill": {
     "duration": 0.049104,
     "end_time": "2020-08-22T08:22:40.317925",
     "exception": false,
     "start_time": "2020-08-22T08:22:40.268821",
     "status": "completed"
    },
    "tags": []
   },
   "outputs": [
    {
     "name": "stdout",
     "output_type": "stream",
     "text": [
      "Year              9.00\n",
      "HP              131.00\n",
      "Cylinders         2.00\n",
      "MPG-H             8.00\n",
      "MPG-C             6.00\n",
      "Popularity     1460.00\n",
      "Price         21426.25\n",
      "dtype: float64\n"
     ]
    }
   ],
   "source": [
    "Q1 = df.quantile(0.25)\n",
    "Q3 = df.quantile(0.75)\n",
    "IQR = Q3 - Q1\n",
    "print(IQR)"
   ]
  },
  {
   "cell_type": "markdown",
   "metadata": {
    "papermill": {
     "duration": 0.030232,
     "end_time": "2020-08-22T08:22:40.379001",
     "exception": false,
     "start_time": "2020-08-22T08:22:40.348769",
     "status": "completed"
    },
    "tags": []
   },
   "source": [
    "# CHECKING THE SHAPE OF THE DATAFRAME AFTER REMOVING OUTLIERS"
   ]
  },
  {
   "cell_type": "code",
   "execution_count": 22,
   "metadata": {
    "execution": {
     "iopub.execute_input": "2020-08-22T08:22:40.451374Z",
     "iopub.status.busy": "2020-08-22T08:22:40.450470Z",
     "iopub.status.idle": "2020-08-22T08:22:40.503881Z",
     "shell.execute_reply": "2020-08-22T08:22:40.504509Z"
    },
    "papermill": {
     "duration": 0.095535,
     "end_time": "2020-08-22T08:22:40.504729",
     "exception": false,
     "start_time": "2020-08-22T08:22:40.409194",
     "status": "completed"
    },
    "tags": []
   },
   "outputs": [
    {
     "data": {
      "text/plain": [
       "(8546, 13)"
      ]
     },
     "execution_count": 22,
     "metadata": {},
     "output_type": "execute_result"
    }
   ],
   "source": [
    "df = df[~((df < (Q1 - 1.5 * IQR)) |(df > (Q3 + 1.5 * IQR))).any(axis=1)]\n",
    "df.shape"
   ]
  },
  {
   "cell_type": "markdown",
   "metadata": {
    "papermill": {
     "duration": 0.029786,
     "end_time": "2020-08-22T08:22:40.565146",
     "exception": false,
     "start_time": "2020-08-22T08:22:40.535360",
     "status": "completed"
    },
    "tags": []
   },
   "source": [
    "# Checking whether the outliers are removed are not"
   ]
  },
  {
   "cell_type": "code",
   "execution_count": 23,
   "metadata": {
    "execution": {
     "iopub.execute_input": "2020-08-22T08:22:40.642605Z",
     "iopub.status.busy": "2020-08-22T08:22:40.641680Z",
     "iopub.status.idle": "2020-08-22T08:22:40.919182Z",
     "shell.execute_reply": "2020-08-22T08:22:40.918346Z"
    },
    "papermill": {
     "duration": 0.323668,
     "end_time": "2020-08-22T08:22:40.919385",
     "exception": false,
     "start_time": "2020-08-22T08:22:40.595717",
     "status": "completed"
    },
    "tags": []
   },
   "outputs": [
    {
     "data": {
      "text/plain": [
       "<matplotlib.axes._subplots.AxesSubplot at 0x206bd409ac8>"
      ]
     },
     "execution_count": 23,
     "metadata": {},
     "output_type": "execute_result"
    },
    {
     "data": {
      "image/png": "[encoded data removed]",
      "text/plain": [
       "<Figure size 432x288 with 1 Axes>"
      ]
     },
     "metadata": {
      "needs_background": "light"
     },
     "output_type": "display_data"
    }
   ],
   "source": [
    "sns.boxplot(x=df['Price']) #boxplot of price"
   ]
  },
  {
   "cell_type": "code",
   "execution_count": 24,
   "metadata": {
    "execution": {
     "iopub.execute_input": "2020-08-22T08:22:40.999262Z",
     "iopub.status.busy": "2020-08-22T08:22:40.996489Z",
     "iopub.status.idle": "2020-08-22T08:22:41.253150Z",
     "shell.execute_reply": "2020-08-22T08:22:41.252489Z"
    },
    "papermill": {
     "duration": 0.302693,
     "end_time": "2020-08-22T08:22:41.253316",
     "exception": false,
     "start_time": "2020-08-22T08:22:40.950623",
     "status": "completed"
    },
    "tags": []
   },
   "outputs": [
    {
     "data": {
      "text/plain": [
       "<matplotlib.axes._subplots.AxesSubplot at 0x206bd4b1470>"
      ]
     },
     "execution_count": 24,
     "metadata": {},
     "output_type": "execute_result"
    },
    {
     "data": {
      "image/png": "[encoded data removed]",
      "text/plain": [
       "<Figure size 432x288 with 1 Axes>"
      ]
     },
     "metadata": {
      "needs_background": "light"
     },
     "output_type": "display_data"
    }
   ],
   "source": [
    "sns.boxplot(x=df['HP']) #boxplot of hp"
   ]
  },
  {
   "cell_type": "code",
   "execution_count": 25,
   "metadata": {
    "execution": {
     "iopub.execute_input": "2020-08-22T08:22:41.323159Z",
     "iopub.status.busy": "2020-08-22T08:22:41.322314Z",
     "iopub.status.idle": "2020-08-22T08:22:41.586800Z",
     "shell.execute_reply": "2020-08-22T08:22:41.586145Z"
    },
    "papermill": {
     "duration": 0.302744,
     "end_time": "2020-08-22T08:22:41.586965",
     "exception": false,
     "start_time": "2020-08-22T08:22:41.284221",
     "status": "completed"
    },
    "tags": []
   },
   "outputs": [
    {
     "data": {
      "text/plain": [
       "<matplotlib.axes._subplots.AxesSubplot at 0x206bd50a7f0>"
      ]
     },
     "execution_count": 25,
     "metadata": {},
     "output_type": "execute_result"
    },
    {
     "data": {
      "image/png": "[encoded data removed]",
      "text/plain": [
       "<Figure size 432x288 with 1 Axes>"
      ]
     },
     "metadata": {
      "needs_background": "light"
     },
     "output_type": "display_data"
    }
   ],
   "source": [
    "sns.boxplot(x=df['Cylinders']) #boxplot of cylinders"
   ]
  },
  {
   "cell_type": "markdown",
   "metadata": {
    "papermill": {
     "duration": 0.030746,
     "end_time": "2020-08-22T08:22:41.648842",
     "exception": false,
     "start_time": "2020-08-22T08:22:41.618096",
     "status": "completed"
    },
    "tags": []
   },
   "source": [
    "# STEP 6 CHECKING TOP 15 CAR BRAND MOST REPRESENTED IN DATASET"
   ]
  },
  {
   "cell_type": "code",
   "execution_count": 26,
   "metadata": {
    "execution": {
     "iopub.execute_input": "2020-08-22T08:22:41.728853Z",
     "iopub.status.busy": "2020-08-22T08:22:41.727986Z",
     "iopub.status.idle": "2020-08-22T08:22:42.107568Z",
     "shell.execute_reply": "2020-08-22T08:22:42.108542Z"
    },
    "papermill": {
     "duration": 0.428818,
     "end_time": "2020-08-22T08:22:42.108813",
     "exception": false,
     "start_time": "2020-08-22T08:22:41.679995",
     "status": "completed"
    },
    "tags": []
   },
   "outputs": [
    {
     "data": {
      "image/png": "[encoded data removed]",
      "text/plain": [
       "<Figure size 720x360 with 1 Axes>"
      ]
     },
     "metadata": {
      "needs_background": "light"
     },
     "output_type": "display_data"
    }
   ],
   "source": [
    "counts = df['Make'].value_counts()*100/sum(df['Make'].value_counts())\n",
    "popular_labels = counts.index[:15]\n",
    "plt.figure(figsize=(10,5))\n",
    "plt.barh(popular_labels, width=counts[:15])\n",
    "plt.title('Top 15 Car brands')\n",
    "plt.show()"
   ]
  },
  {
   "cell_type": "markdown",
   "metadata": {
    "papermill": {
     "duration": 0.031662,
     "end_time": "2020-08-22T08:22:42.178893",
     "exception": false,
     "start_time": "2020-08-22T08:22:42.147231",
     "status": "completed"
    },
    "tags": []
   },
   "source": [
    "# STEP 6.2 FINDING AVERAGE CAR PRICE AMONS THE TOPS CAR BRANDS"
   ]
  },
  {
   "cell_type": "code",
   "execution_count": 27,
   "metadata": {
    "execution": {
     "iopub.execute_input": "2020-08-22T08:22:42.275827Z",
     "iopub.status.busy": "2020-08-22T08:22:42.274582Z",
     "iopub.status.idle": "2020-08-22T08:22:42.286742Z",
     "shell.execute_reply": "2020-08-22T08:22:42.285632Z"
    },
    "papermill": {
     "duration": 0.076366,
     "end_time": "2020-08-22T08:22:42.286977",
     "exception": false,
     "start_time": "2020-08-22T08:22:42.210611",
     "status": "completed"
    },
    "tags": []
   },
   "outputs": [
    {
     "name": "stdout",
     "output_type": "stream",
     "text": [
      "                   Price\n",
      "Make                    \n",
      "Chevrolet   28142.855891\n",
      "Dodge       26076.722353\n",
      "GMC         33261.400853\n",
      "Honda       27381.364611\n",
      "Mazda       20495.820106\n",
      "Nissan      28352.543860\n",
      "Toyota      27769.421793\n",
      "Volkswagen  29032.817476\n"
     ]
    }
   ],
   "source": [
    "prices = df[['Make','Price']].loc[(df['Make'] == 'Chevrolet')|\n",
    "               (df['Make'] == 'Ford')|\n",
    "               (df['Make'] == 'Volkswagen')|\n",
    "               (df['Make'] == 'Toyota')|\n",
    "               (df['Make'] == 'Dodge')|\n",
    "               (df['Make'] == 'Nissan')|\n",
    "               (df['Make'] == 'GMC')|\n",
    "               (df['Make'] == 'Honda')|\n",
    "               (df['Make'] == 'Mazda')].groupby('Make').mean()\n",
    "print(prices)"
   ]
  },
  {
   "cell_type": "markdown",
   "metadata": {
    "papermill": {
     "duration": 0.031547,
     "end_time": "2020-08-22T08:22:42.361176",
     "exception": false,
     "start_time": "2020-08-22T08:22:42.329629",
     "status": "completed"
    },
    "tags": []
   },
   "source": [
    "\n",
    "# STPE 7 PLOTTING THE CORRELATION MATRIX"
   ]
  },
  {
   "cell_type": "code",
   "execution_count": 28,
   "metadata": {
    "execution": {
     "iopub.execute_input": "2020-08-22T08:22:42.435296Z",
     "iopub.status.busy": "2020-08-22T08:22:42.433114Z",
     "iopub.status.idle": "2020-08-22T08:22:42.454637Z",
     "shell.execute_reply": "2020-08-22T08:22:42.453528Z"
    },
    "papermill": {
     "duration": 0.059713,
     "end_time": "2020-08-22T08:22:42.454870",
     "exception": false,
     "start_time": "2020-08-22T08:22:42.395157",
     "status": "completed"
    },
    "tags": []
   },
   "outputs": [
    {
     "data": {
      "text/html": [
       "<div>\n",
       "<style scoped>\n",
       "    .dataframe tbody tr th:only-of-type {\n",
       "        vertical-align: middle;\n",
       "    }\n",
       "\n",
       "    .dataframe tbody tr th {\n",
       "        vertical-align: top;\n",
       "    }\n",
       "\n",
       "    .dataframe thead th {\n",
       "        text-align: right;\n",
       "    }\n",
       "</style>\n",
       "<table border=\"1\" class=\"dataframe\">\n",
       "  <thead>\n",
       "    <tr style=\"text-align: right;\">\n",
       "      <th></th>\n",
       "      <th>Year</th>\n",
       "      <th>HP</th>\n",
       "      <th>Cylinders</th>\n",
       "      <th>MPG-H</th>\n",
       "      <th>MPG-C</th>\n",
       "      <th>Popularity</th>\n",
       "      <th>Price</th>\n",
       "    </tr>\n",
       "  </thead>\n",
       "  <tbody>\n",
       "    <tr>\n",
       "      <th>Year</th>\n",
       "      <td>1.000000</td>\n",
       "      <td>0.325104</td>\n",
       "      <td>-0.106597</td>\n",
       "      <td>0.373319</td>\n",
       "      <td>0.335236</td>\n",
       "      <td>0.200710</td>\n",
       "      <td>0.591439</td>\n",
       "    </tr>\n",
       "    <tr>\n",
       "      <th>HP</th>\n",
       "      <td>0.325104</td>\n",
       "      <td>1.000000</td>\n",
       "      <td>0.734094</td>\n",
       "      <td>-0.453451</td>\n",
       "      <td>-0.554768</td>\n",
       "      <td>0.095161</td>\n",
       "      <td>0.745852</td>\n",
       "    </tr>\n",
       "    <tr>\n",
       "      <th>Cylinders</th>\n",
       "      <td>-0.106597</td>\n",
       "      <td>0.734094</td>\n",
       "      <td>1.000000</td>\n",
       "      <td>-0.691395</td>\n",
       "      <td>-0.746361</td>\n",
       "      <td>0.013373</td>\n",
       "      <td>0.389049</td>\n",
       "    </tr>\n",
       "    <tr>\n",
       "      <th>MPG-H</th>\n",
       "      <td>0.373319</td>\n",
       "      <td>-0.453451</td>\n",
       "      <td>-0.691395</td>\n",
       "      <td>1.000000</td>\n",
       "      <td>0.936978</td>\n",
       "      <td>0.093002</td>\n",
       "      <td>-0.121262</td>\n",
       "    </tr>\n",
       "    <tr>\n",
       "      <th>MPG-C</th>\n",
       "      <td>0.335236</td>\n",
       "      <td>-0.554768</td>\n",
       "      <td>-0.746361</td>\n",
       "      <td>0.936978</td>\n",
       "      <td>1.000000</td>\n",
       "      <td>0.081110</td>\n",
       "      <td>-0.197330</td>\n",
       "    </tr>\n",
       "    <tr>\n",
       "      <th>Popularity</th>\n",
       "      <td>0.200710</td>\n",
       "      <td>0.095161</td>\n",
       "      <td>0.013373</td>\n",
       "      <td>0.093002</td>\n",
       "      <td>0.081110</td>\n",
       "      <td>1.000000</td>\n",
       "      <td>0.113604</td>\n",
       "    </tr>\n",
       "    <tr>\n",
       "      <th>Price</th>\n",
       "      <td>0.591439</td>\n",
       "      <td>0.745852</td>\n",
       "      <td>0.389049</td>\n",
       "      <td>-0.121262</td>\n",
       "      <td>-0.197330</td>\n",
       "      <td>0.113604</td>\n",
       "      <td>1.000000</td>\n",
       "    </tr>\n",
       "  </tbody>\n",
       "</table>\n",
       "</div>"
      ],
      "text/plain": [
       "                Year        HP  Cylinders     MPG-H     MPG-C  Popularity  \\\n",
       "Year        1.000000  0.325104  -0.106597  0.373319  0.335236    0.200710   \n",
       "HP          0.325104  1.000000   0.734094 -0.453451 -0.554768    0.095161   \n",
       "Cylinders  -0.106597  0.734094   1.000000 -0.691395 -0.746361    0.013373   \n",
       "MPG-H       0.373319 -0.453451  -0.691395  1.000000  0.936978    0.093002   \n",
       "MPG-C       0.335236 -0.554768  -0.746361  0.936978  1.000000    0.081110   \n",
       "Popularity  0.200710  0.095161   0.013373  0.093002  0.081110    1.000000   \n",
       "Price       0.591439  0.745852   0.389049 -0.121262 -0.197330    0.113604   \n",
       "\n",
       "               Price  \n",
       "Year        0.591439  \n",
       "HP          0.745852  \n",
       "Cylinders   0.389049  \n",
       "MPG-H      -0.121262  \n",
       "MPG-C      -0.197330  \n",
       "Popularity  0.113604  \n",
       "Price       1.000000  "
      ]
     },
     "execution_count": 28,
     "metadata": {},
     "output_type": "execute_result"
    }
   ],
   "source": [
    "df.corr() #FINDING THE CORRELATION MATRIX FROM HERE"
   ]
  },
  {
   "cell_type": "markdown",
   "metadata": {
    "papermill": {
     "duration": 0.032326,
     "end_time": "2020-08-22T08:22:42.524622",
     "exception": false,
     "start_time": "2020-08-22T08:22:42.492296",
     "status": "completed"
    },
    "tags": []
   },
   "source": [
    "# step 7\n",
    "# DOCUMENTING INSIGHTS **\n",
    "from the above it is concluded that price is positively depends on HP and Years . even they two are positiviely depend on each others . MPG-h and MPG-C are negatively strong correlation with cylinders.\n",
    "\n",
    "positive correlation holds directly proportion relation and negative coorealtion holds inversely relation with thier respeccitve factors affecting them "
   ]
  },
  {
   "cell_type": "code",
   "execution_count": 29,
   "metadata": {
    "execution": {
     "iopub.execute_input": "2020-08-22T08:22:42.596135Z",
     "iopub.status.busy": "2020-08-22T08:22:42.595030Z",
     "iopub.status.idle": "2020-08-22T08:22:43.139615Z",
     "shell.execute_reply": "2020-08-22T08:22:43.140209Z"
    },
    "papermill": {
     "duration": 0.583815,
     "end_time": "2020-08-22T08:22:43.140409",
     "exception": false,
     "start_time": "2020-08-22T08:22:42.556594",
     "status": "completed"
    },
    "tags": []
   },
   "outputs": [
    {
     "data": {
      "text/plain": [
       "<matplotlib.axes._subplots.AxesSubplot at 0x206bd585518>"
      ]
     },
     "execution_count": 29,
     "metadata": {},
     "output_type": "execute_result"
    },
    {
     "data": {
      "image/png": "[encoded data removed]",
      "text/plain": [
       "<Figure size 432x288 with 2 Axes>"
      ]
     },
     "metadata": {
      "needs_background": "light"
     },
     "output_type": "display_data"
    }
   ],
   "source": [
    "corrMatrix = df.corr()\n",
    "sns.heatmap(corrMatrix,annot=True)"
   ]
  },
  {
   "cell_type": "markdown",
   "metadata": {
    "papermill": {
     "duration": 0.033132,
     "end_time": "2020-08-22T08:22:43.207352",
     "exception": false,
     "start_time": "2020-08-22T08:22:43.174220",
     "status": "completed"
    },
    "tags": []
   },
   "source": [
    "> # \n",
    "# FINDINGS FROM HEAT MAP\n",
    "*There is a +ve correlation between:\n",
    "\n",
    "Engine HP and Engine Cylinders // Engine HP and MSRP // Engine Cylinders and MSRP // MPG-H and MPG-C //\n",
    "\n",
    "There is Strong -ve correlation between :\n",
    "\n",
    "MPG-H and Cylinders MPG-C and Cylinders*"
   ]
  },
  {
   "cell_type": "markdown",
   "metadata": {
    "papermill": {
     "duration": 0.032505,
     "end_time": "2020-08-22T08:22:43.273141",
     "exception": false,
     "start_time": "2020-08-22T08:22:43.240636",
     "status": "completed"
    },
    "tags": []
   },
   "source": [
    "# step 8 plotting diff graphs and also checking how other variable affect the price of the car (EDA)"
   ]
  },
  {
   "cell_type": "code",
   "execution_count": 30,
   "metadata": {
    "execution": {
     "iopub.execute_input": "2020-08-22T08:22:43.348067Z",
     "iopub.status.busy": "2020-08-22T08:22:43.347185Z",
     "iopub.status.idle": "2020-08-22T08:22:44.754687Z",
     "shell.execute_reply": "2020-08-22T08:22:44.753839Z"
    },
    "papermill": {
     "duration": 1.448626,
     "end_time": "2020-08-22T08:22:44.754859",
     "exception": false,
     "start_time": "2020-08-22T08:22:43.306233",
     "status": "completed"
    },
    "tags": []
   },
   "outputs": [
    {
     "data": {
      "text/plain": [
       "<matplotlib.axes._subplots.AxesSubplot at 0x206be6e8b00>"
      ]
     },
     "execution_count": 30,
     "metadata": {},
     "output_type": "execute_result"
    },
    {
     "data": {
      "image/png": "[encoded data removed]",
      "text/plain": [
       "<Figure size 432x288 with 1 Axes>"
      ]
     },
     "metadata": {
      "needs_background": "light"
     },
     "output_type": "display_data"
    }
   ],
   "source": [
    "\n",
    "sns.barplot(df['Year'],df['Price'])"
   ]
  },
  {
   "cell_type": "markdown",
   "metadata": {
    "papermill": {
     "duration": 0.035327,
     "end_time": "2020-08-22T08:22:44.824588",
     "exception": false,
     "start_time": "2020-08-22T08:22:44.789261",
     "status": "completed"
    },
    "tags": []
   },
   "source": [
    "\n",
    "> In this graph (YEAR VS PRICE) in the starting years it was gradualy incrementing as well as decrementing but as the year is increasing the price of the cars increasing . ...** DOUCUMENT INSIGHTS OF GRAPH."
   ]
  },
  {
   "cell_type": "code",
   "execution_count": 31,
   "metadata": {
    "execution": {
     "iopub.execute_input": "2020-08-22T08:22:44.904048Z",
     "iopub.status.busy": "2020-08-22T08:22:44.903189Z",
     "iopub.status.idle": "2020-08-22T08:22:45.338482Z",
     "shell.execute_reply": "2020-08-22T08:22:45.337615Z"
    },
    "papermill": {
     "duration": 0.480093,
     "end_time": "2020-08-22T08:22:45.338647",
     "exception": false,
     "start_time": "2020-08-22T08:22:44.858554",
     "status": "completed"
    },
    "tags": []
   },
   "outputs": [
    {
     "data": {
      "text/plain": [
       "<matplotlib.axes._subplots.AxesSubplot at 0x206bd585278>"
      ]
     },
     "execution_count": 31,
     "metadata": {},
     "output_type": "execute_result"
    },
    {
     "data": {
      "image/png": "[encoded data removed]",
      "text/plain": [
       "<Figure size 432x288 with 1 Axes>"
      ]
     },
     "metadata": {
      "needs_background": "light"
     },
     "output_type": "display_data"
    }
   ],
   "source": [
    "sns.barplot(df['Cylinders'],df['Price'])"
   ]
  },
  {
   "cell_type": "markdown",
   "metadata": {
    "papermill": {
     "duration": 0.033905,
     "end_time": "2020-08-22T08:22:45.406980",
     "exception": false,
     "start_time": "2020-08-22T08:22:45.373075",
     "status": "completed"
    },
    "tags": []
   },
   "source": [
    "\n",
    "> In this graph (CYLINDERS VS PRICE) IT shows that subtotals changes with each addition category and provide us with better understanding of data . ...** DOUCUMENT INSIGHTS OF GRAPH."
   ]
  },
  {
   "cell_type": "code",
   "execution_count": 32,
   "metadata": {
    "execution": {
     "iopub.execute_input": "2020-08-22T08:22:45.488926Z",
     "iopub.status.busy": "2020-08-22T08:22:45.485876Z",
     "iopub.status.idle": "2020-08-22T08:22:47.160938Z",
     "shell.execute_reply": "2020-08-22T08:22:47.160182Z"
    },
    "papermill": {
     "duration": 1.717935,
     "end_time": "2020-08-22T08:22:47.161117",
     "exception": false,
     "start_time": "2020-08-22T08:22:45.443182",
     "status": "completed"
    },
    "tags": []
   },
   "outputs": [
    {
     "data": {
      "text/plain": [
       "<matplotlib.axes._subplots.AxesSubplot at 0x206be87c668>"
      ]
     },
     "execution_count": 32,
     "metadata": {},
     "output_type": "execute_result"
    },
    {
     "data": {
      "image/png": "[encoded data removed]",
      "text/plain": [
       "<Figure size 432x288 with 1 Axes>"
      ]
     },
     "metadata": {
      "needs_background": "light"
     },
     "output_type": "display_data"
    }
   ],
   "source": [
    "sns.barplot(df['MPG-H'],df['Price'])"
   ]
  },
  {
   "cell_type": "markdown",
   "metadata": {
    "papermill": {
     "duration": 0.034693,
     "end_time": "2020-08-22T08:22:47.231143",
     "exception": false,
     "start_time": "2020-08-22T08:22:47.196450",
     "status": "completed"
    },
    "tags": []
   },
   "source": [
    "> In this graph (MPG-H VS PRICE) It accomodates the occurence of values far away from the mean by representing the bigger part of a total ...** DOUCUMENT INSIGHTS OF GRAPH."
   ]
  },
  {
   "cell_type": "code",
   "execution_count": 33,
   "metadata": {
    "execution": {
     "iopub.execute_input": "2020-08-22T08:22:47.312018Z",
     "iopub.status.busy": "2020-08-22T08:22:47.311147Z",
     "iopub.status.idle": "2020-08-22T08:22:48.605916Z",
     "shell.execute_reply": "2020-08-22T08:22:48.605242Z"
    },
    "papermill": {
     "duration": 1.339393,
     "end_time": "2020-08-22T08:22:48.606101",
     "exception": false,
     "start_time": "2020-08-22T08:22:47.266708",
     "status": "completed"
    },
    "tags": []
   },
   "outputs": [
    {
     "data": {
      "text/plain": [
       "<matplotlib.axes._subplots.AxesSubplot at 0x206be9c2ef0>"
      ]
     },
     "execution_count": 33,
     "metadata": {},
     "output_type": "execute_result"
    },
    {
     "data": {
      "image/png": "[encoded data removed]",
      "text/plain": [
       "<Figure size 432x288 with 1 Axes>"
      ]
     },
     "metadata": {
      "needs_background": "light"
     },
     "output_type": "display_data"
    }
   ],
   "source": [
    "sns.barplot(df['MPG-C'],df['Price'])"
   ]
  },
  {
   "cell_type": "code",
   "execution_count": 34,
   "metadata": {
    "execution": {
     "iopub.execute_input": "2020-08-22T08:22:48.685780Z",
     "iopub.status.busy": "2020-08-22T08:22:48.684907Z",
     "iopub.status.idle": "2020-08-22T08:22:50.909531Z",
     "shell.execute_reply": "2020-08-22T08:22:50.908581Z"
    },
    "papermill": {
     "duration": 2.268497,
     "end_time": "2020-08-22T08:22:50.909694",
     "exception": false,
     "start_time": "2020-08-22T08:22:48.641197",
     "status": "completed"
    },
    "tags": []
   },
   "outputs": [
    {
     "data": {
      "text/plain": [
       "<matplotlib.axes._subplots.AxesSubplot at 0x206beabf9e8>"
      ]
     },
     "execution_count": 34,
     "metadata": {},
     "output_type": "execute_result"
    },
    {
     "data": {
      "image/png": "[encoded data removed]",
      "text/plain": [
       "<Figure size 432x288 with 1 Axes>"
      ]
     },
     "metadata": {
      "needs_background": "light"
     },
     "output_type": "display_data"
    }
   ],
   "source": [
    "sns.barplot(df['Popularity'],df['Price'])"
   ]
  },
  {
   "cell_type": "markdown",
   "metadata": {
    "papermill": {
     "duration": 0.03671,
     "end_time": "2020-08-22T08:22:50.982456",
     "exception": false,
     "start_time": "2020-08-22T08:22:50.945746",
     "status": "completed"
    },
    "tags": []
   },
   "source": [
    "# OVERALL DOCUMENTING INSIGHTS\n",
    "**# some important insights..:\n",
    "\n",
    "1. Car price increased after year 2000\n",
    "2. More the no the cylinders, more is the price\n",
    "3. For MPG-H 13, price is maximum and for MPG-H 15, price is lowest.\n",
    "4. For MPG-C 10, price is maximum and for MPG-C 31, price is minimum"
   ]
  },
  {
   "cell_type": "code",
   "execution_count": 35,
   "metadata": {
    "execution": {
     "iopub.execute_input": "2020-08-22T08:22:51.062475Z",
     "iopub.status.busy": "2020-08-22T08:22:51.061508Z",
     "iopub.status.idle": "2020-08-22T08:22:51.444648Z",
     "shell.execute_reply": "2020-08-22T08:22:51.443827Z"
    },
    "papermill": {
     "duration": 0.425745,
     "end_time": "2020-08-22T08:22:51.444802",
     "exception": false,
     "start_time": "2020-08-22T08:22:51.019057",
     "status": "completed"
    },
    "tags": []
   },
   "outputs": [
    {
     "data": {
      "text/plain": [
       "Text(0.5, 0, 'Price')"
      ]
     },
     "execution_count": 35,
     "metadata": {},
     "output_type": "execute_result"
    },
    {
     "data": {
      "image/png": "[encoded data removed]",
      "text/plain": [
       "<Figure size 432x288 with 1 Axes>"
      ]
     },
     "metadata": {
      "needs_background": "light"
     },
     "output_type": "display_data"
    }
   ],
   "source": [
    "df['Price'].plot.hist()\n",
    "plt.xlabel('Price', fontsize=12)"
   ]
  },
  {
   "cell_type": "code",
   "execution_count": 36,
   "metadata": {
    "execution": {
     "iopub.execute_input": "2020-08-22T08:22:51.525707Z",
     "iopub.status.busy": "2020-08-22T08:22:51.524817Z",
     "iopub.status.idle": "2020-08-22T08:22:51.878715Z",
     "shell.execute_reply": "2020-08-22T08:22:51.877959Z"
    },
    "papermill": {
     "duration": 0.397917,
     "end_time": "2020-08-22T08:22:51.878890",
     "exception": false,
     "start_time": "2020-08-22T08:22:51.480973",
     "status": "completed"
    },
    "tags": []
   },
   "outputs": [
    {
     "data": {
      "text/plain": [
       "<matplotlib.axes._subplots.AxesSubplot at 0x206bd593240>"
      ]
     },
     "execution_count": 36,
     "metadata": {},
     "output_type": "execute_result"
    },
    {
     "data": {
      "image/png": "[encoded data removed]",
      "text/plain": [
       "<Figure size 432x288 with 1 Axes>"
      ]
     },
     "metadata": {
      "needs_background": "light"
     },
     "output_type": "display_data"
    }
   ],
   "source": [
    "(df['Price'].loc[df['Price']<4.223125e+04 ]).plot.hist()"
   ]
  },
  {
   "cell_type": "code",
   "execution_count": 37,
   "metadata": {
    "execution": {
     "iopub.execute_input": "2020-08-22T08:22:51.960744Z",
     "iopub.status.busy": "2020-08-22T08:22:51.959827Z",
     "iopub.status.idle": "2020-08-22T08:22:52.287410Z",
     "shell.execute_reply": "2020-08-22T08:22:52.286626Z"
    },
    "papermill": {
     "duration": 0.37151,
     "end_time": "2020-08-22T08:22:52.287559",
     "exception": false,
     "start_time": "2020-08-22T08:22:51.916049",
     "status": "completed"
    },
    "tags": []
   },
   "outputs": [
    {
     "data": {
      "text/plain": [
       "Text(0.5, 0, 'Car Year')"
      ]
     },
     "execution_count": 37,
     "metadata": {},
     "output_type": "execute_result"
    },
    {
     "data": {
      "image/png": "[encoded data removed]",
      "text/plain": [
       "<Figure size 432x288 with 1 Axes>"
      ]
     },
     "metadata": {
      "needs_background": "light"
     },
     "output_type": "display_data"
    }
   ],
   "source": [
    "df['Year'].plot.hist()\n",
    "plt.xlabel('Car Year', fontsize=12)"
   ]
  },
  {
   "cell_type": "code",
   "execution_count": 38,
   "metadata": {
    "execution": {
     "iopub.execute_input": "2020-08-22T08:22:52.368840Z",
     "iopub.status.busy": "2020-08-22T08:22:52.368021Z",
     "iopub.status.idle": "2020-08-22T08:22:52.735139Z",
     "shell.execute_reply": "2020-08-22T08:22:52.734390Z"
    },
    "papermill": {
     "duration": 0.410792,
     "end_time": "2020-08-22T08:22:52.735288",
     "exception": false,
     "start_time": "2020-08-22T08:22:52.324496",
     "status": "completed"
    },
    "tags": []
   },
   "outputs": [
    {
     "data": {
      "text/plain": [
       "Text(0.5, 0, 'Popularity of the Car')"
      ]
     },
     "execution_count": 38,
     "metadata": {},
     "output_type": "execute_result"
    },
    {
     "data": {
      "image/png": "[encoded data removed]",
      "text/plain": [
       "<Figure size 432x288 with 1 Axes>"
      ]
     },
     "metadata": {
      "needs_background": "light"
     },
     "output_type": "display_data"
    }
   ],
   "source": [
    "df['Popularity'].plot.hist()\n",
    "plt.xlabel('Popularity of the Car', fontsize=12)\n"
   ]
  },
  {
   "cell_type": "code",
   "execution_count": 39,
   "metadata": {
    "execution": {
     "iopub.execute_input": "2020-08-22T08:22:52.825835Z",
     "iopub.status.busy": "2020-08-22T08:22:52.824531Z",
     "iopub.status.idle": "2020-08-22T08:22:53.140680Z",
     "shell.execute_reply": "2020-08-22T08:22:53.139867Z"
    },
    "papermill": {
     "duration": 0.36838,
     "end_time": "2020-08-22T08:22:53.140841",
     "exception": false,
     "start_time": "2020-08-22T08:22:52.772461",
     "status": "completed"
    },
    "tags": []
   },
   "outputs": [
    {
     "data": {
      "image/png": "[encoded data removed]",
      "text/plain": [
       "<Figure size 360x360 with 1 Axes>"
      ]
     },
     "metadata": {
      "needs_background": "light"
     },
     "output_type": "display_data"
    }
   ],
   "source": [
    "fig, ax=plt.subplots(figsize=(5,5))\n",
    "ax.scatter(df['Popularity'],df['Price'])\n",
    "plt.title('Scatter between price and popularity')\n",
    "ax.set_xlabel=('Popularity')\n",
    "ax.st_ylabel=('Price')\n",
    "plt.show()"
   ]
  },
  {
   "cell_type": "code",
   "execution_count": 40,
   "metadata": {
    "execution": {
     "iopub.execute_input": "2020-08-22T08:22:53.231335Z",
     "iopub.status.busy": "2020-08-22T08:22:53.224822Z",
     "iopub.status.idle": "2020-08-22T08:22:53.554202Z",
     "shell.execute_reply": "2020-08-22T08:22:53.553489Z"
    },
    "papermill": {
     "duration": 0.375841,
     "end_time": "2020-08-22T08:22:53.554366",
     "exception": false,
     "start_time": "2020-08-22T08:22:53.178525",
     "status": "completed"
    },
    "tags": []
   },
   "outputs": [
    {
     "data": {
      "image/png": "[encoded data removed]",
      "text/plain": [
       "<Figure size 360x360 with 1 Axes>"
      ]
     },
     "metadata": {
      "needs_background": "light"
     },
     "output_type": "display_data"
    }
   ],
   "source": [
    "fig, ax=plt.subplots(figsize=(5,5))\n",
    "ax.scatter(df['Cylinders'],df['Price'])\n",
    "plt.title('Scatter between price and cylinders')\n",
    "ax.set_xlabel=('Cylinders')\n",
    "ax.st_ylabel=('Price')\n",
    "plt.show()"
   ]
  },
  {
   "cell_type": "code",
   "execution_count": 41,
   "metadata": {
    "execution": {
     "iopub.execute_input": "2020-08-22T08:22:53.645723Z",
     "iopub.status.busy": "2020-08-22T08:22:53.640158Z",
     "iopub.status.idle": "2020-08-22T08:22:53.966488Z",
     "shell.execute_reply": "2020-08-22T08:22:53.965751Z"
    },
    "papermill": {
     "duration": 0.373819,
     "end_time": "2020-08-22T08:22:53.966642",
     "exception": false,
     "start_time": "2020-08-22T08:22:53.592823",
     "status": "completed"
    },
    "tags": []
   },
   "outputs": [
    {
     "data": {
      "image/png": "[encoded data removed]",
      "text/plain": [
       "<Figure size 360x360 with 1 Axes>"
      ]
     },
     "metadata": {
      "needs_background": "light"
     },
     "output_type": "display_data"
    }
   ],
   "source": [
    "fig, ax=plt.subplots(figsize=(5,5))\n",
    "ax.scatter(df['Cylinders'],df['Price'])\n",
    "plt.title('Scatter between price and cylinders')\n",
    "ax.set_xlabel=('Cylinders')\n",
    "ax.st_ylabel=('Price')\n",
    "plt.show()"
   ]
  },
  {
   "cell_type": "code",
   "execution_count": 42,
   "metadata": {
    "execution": {
     "iopub.execute_input": "2020-08-22T08:22:54.059249Z",
     "iopub.status.busy": "2020-08-22T08:22:54.053260Z",
     "iopub.status.idle": "2020-08-22T08:22:54.381379Z",
     "shell.execute_reply": "2020-08-22T08:22:54.380650Z"
    },
    "papermill": {
     "duration": 0.374819,
     "end_time": "2020-08-22T08:22:54.381544",
     "exception": false,
     "start_time": "2020-08-22T08:22:54.006725",
     "status": "completed"
    },
    "tags": []
   },
   "outputs": [
    {
     "data": {
      "image/png": "[encoded data removed]",
      "text/plain": [
       "<Figure size 360x360 with 1 Axes>"
      ]
     },
     "metadata": {
      "needs_background": "light"
     },
     "output_type": "display_data"
    }
   ],
   "source": [
    "fig, ax=plt.subplots(figsize=(5,5))\n",
    "ax.scatter(df['MPG-C'],df['Price'])\n",
    "plt.title('Scatter between MPG-C and Price')\n",
    "ax.set_xlabel=('MPG-C')\n",
    "ax.st_ylabel=('Price')\n",
    "plt.show()"
   ]
  },
  {
   "cell_type": "markdown",
   "metadata": {
    "papermill": {
     "duration": 0.038488,
     "end_time": "2020-08-22T08:22:54.459220",
     "exception": false,
     "start_time": "2020-08-22T08:22:54.420732",
     "status": "completed"
    },
    "tags": []
   },
   "source": [
    "\n",
    "# step 9 Just Splitting Data set In 80:20 using Pareto principl"
   ]
  },
  {
   "cell_type": "markdown",
   "metadata": {
    "papermill": {
     "duration": 0.039107,
     "end_time": "2020-08-22T08:22:54.537523",
     "exception": false,
     "start_time": "2020-08-22T08:22:54.498416",
     "status": "completed"
    },
    "tags": []
   },
   "source": [
    "# What Is the Pareto Principle for splitting ?\n",
    "> The Pareto Principle, named after esteemed economist Vilfredo Pareto, specifies that 80% of consequences come from 20% of the causes, asserting an unequal relationship between inputs and outputs. This principle serves as a general reminder that the relationship between inputs and outputs is not balanced. The Pareto Principle is also known as the Pareto Rule or the 80/20 Rule.**"
   ]
  },
  {
   "cell_type": "markdown",
   "metadata": {
    "papermill": {
     "duration": 0.038791,
     "end_time": "2020-08-22T08:22:54.615464",
     "exception": false,
     "start_time": "2020-08-22T08:22:54.576673",
     "status": "completed"
    },
    "tags": []
   },
   "source": [
    "\n",
    "# 9.1 To select all numeric types use the numpy dtype numpy.number as the data consist of categorical data ."
   ]
  },
  {
   "cell_type": "code",
   "execution_count": 43,
   "metadata": {
    "execution": {
     "iopub.execute_input": "2020-08-22T08:22:54.718811Z",
     "iopub.status.busy": "2020-08-22T08:22:54.717666Z",
     "iopub.status.idle": "2020-08-22T08:22:54.723033Z",
     "shell.execute_reply": "2020-08-22T08:22:54.722356Z"
    },
    "papermill": {
     "duration": 0.067622,
     "end_time": "2020-08-22T08:22:54.723179",
     "exception": false,
     "start_time": "2020-08-22T08:22:54.655557",
     "status": "completed"
    },
    "tags": []
   },
   "outputs": [
    {
     "data": {
      "text/html": [
       "<div>\n",
       "<style scoped>\n",
       "    .dataframe tbody tr th:only-of-type {\n",
       "        vertical-align: middle;\n",
       "    }\n",
       "\n",
       "    .dataframe tbody tr th {\n",
       "        vertical-align: top;\n",
       "    }\n",
       "\n",
       "    .dataframe thead th {\n",
       "        text-align: right;\n",
       "    }\n",
       "</style>\n",
       "<table border=\"1\" class=\"dataframe\">\n",
       "  <thead>\n",
       "    <tr style=\"text-align: right;\">\n",
       "      <th></th>\n",
       "      <th>Make</th>\n",
       "      <th>Model</th>\n",
       "      <th>Transmission</th>\n",
       "      <th>Drive Mode</th>\n",
       "      <th>Vehicle Size</th>\n",
       "      <th>Vehicle Style</th>\n",
       "    </tr>\n",
       "  </thead>\n",
       "  <tbody>\n",
       "    <tr>\n",
       "      <th>0</th>\n",
       "      <td>BMW</td>\n",
       "      <td>1 Series M</td>\n",
       "      <td>MANUAL</td>\n",
       "      <td>rear wheel drive</td>\n",
       "      <td>Compact</td>\n",
       "      <td>Coupe</td>\n",
       "    </tr>\n",
       "    <tr>\n",
       "      <th>1</th>\n",
       "      <td>BMW</td>\n",
       "      <td>1 Series</td>\n",
       "      <td>MANUAL</td>\n",
       "      <td>rear wheel drive</td>\n",
       "      <td>Compact</td>\n",
       "      <td>Convertible</td>\n",
       "    </tr>\n",
       "    <tr>\n",
       "      <th>2</th>\n",
       "      <td>BMW</td>\n",
       "      <td>1 Series</td>\n",
       "      <td>MANUAL</td>\n",
       "      <td>rear wheel drive</td>\n",
       "      <td>Compact</td>\n",
       "      <td>Coupe</td>\n",
       "    </tr>\n",
       "    <tr>\n",
       "      <th>3</th>\n",
       "      <td>BMW</td>\n",
       "      <td>1 Series</td>\n",
       "      <td>MANUAL</td>\n",
       "      <td>rear wheel drive</td>\n",
       "      <td>Compact</td>\n",
       "      <td>Coupe</td>\n",
       "    </tr>\n",
       "    <tr>\n",
       "      <th>4</th>\n",
       "      <td>BMW</td>\n",
       "      <td>1 Series</td>\n",
       "      <td>MANUAL</td>\n",
       "      <td>rear wheel drive</td>\n",
       "      <td>Compact</td>\n",
       "      <td>Convertible</td>\n",
       "    </tr>\n",
       "    <tr>\n",
       "      <th>5</th>\n",
       "      <td>BMW</td>\n",
       "      <td>1 Series</td>\n",
       "      <td>MANUAL</td>\n",
       "      <td>rear wheel drive</td>\n",
       "      <td>Compact</td>\n",
       "      <td>Coupe</td>\n",
       "    </tr>\n",
       "    <tr>\n",
       "      <th>6</th>\n",
       "      <td>BMW</td>\n",
       "      <td>1 Series</td>\n",
       "      <td>MANUAL</td>\n",
       "      <td>rear wheel drive</td>\n",
       "      <td>Compact</td>\n",
       "      <td>Convertible</td>\n",
       "    </tr>\n",
       "    <tr>\n",
       "      <th>7</th>\n",
       "      <td>BMW</td>\n",
       "      <td>1 Series</td>\n",
       "      <td>MANUAL</td>\n",
       "      <td>rear wheel drive</td>\n",
       "      <td>Compact</td>\n",
       "      <td>Coupe</td>\n",
       "    </tr>\n",
       "    <tr>\n",
       "      <th>8</th>\n",
       "      <td>BMW</td>\n",
       "      <td>1 Series</td>\n",
       "      <td>MANUAL</td>\n",
       "      <td>rear wheel drive</td>\n",
       "      <td>Compact</td>\n",
       "      <td>Convertible</td>\n",
       "    </tr>\n",
       "    <tr>\n",
       "      <th>9</th>\n",
       "      <td>BMW</td>\n",
       "      <td>1 Series</td>\n",
       "      <td>MANUAL</td>\n",
       "      <td>rear wheel drive</td>\n",
       "      <td>Compact</td>\n",
       "      <td>Convertible</td>\n",
       "    </tr>\n",
       "    <tr>\n",
       "      <th>10</th>\n",
       "      <td>BMW</td>\n",
       "      <td>1 Series</td>\n",
       "      <td>MANUAL</td>\n",
       "      <td>rear wheel drive</td>\n",
       "      <td>Compact</td>\n",
       "      <td>Coupe</td>\n",
       "    </tr>\n",
       "    <tr>\n",
       "      <th>11</th>\n",
       "      <td>BMW</td>\n",
       "      <td>1 Series</td>\n",
       "      <td>MANUAL</td>\n",
       "      <td>rear wheel drive</td>\n",
       "      <td>Compact</td>\n",
       "      <td>Coupe</td>\n",
       "    </tr>\n",
       "    <tr>\n",
       "      <th>12</th>\n",
       "      <td>BMW</td>\n",
       "      <td>1 Series</td>\n",
       "      <td>MANUAL</td>\n",
       "      <td>rear wheel drive</td>\n",
       "      <td>Compact</td>\n",
       "      <td>Convertible</td>\n",
       "    </tr>\n",
       "    <tr>\n",
       "      <th>13</th>\n",
       "      <td>BMW</td>\n",
       "      <td>1 Series</td>\n",
       "      <td>MANUAL</td>\n",
       "      <td>rear wheel drive</td>\n",
       "      <td>Compact</td>\n",
       "      <td>Convertible</td>\n",
       "    </tr>\n",
       "    <tr>\n",
       "      <th>15</th>\n",
       "      <td>BMW</td>\n",
       "      <td>1 Series</td>\n",
       "      <td>MANUAL</td>\n",
       "      <td>rear wheel drive</td>\n",
       "      <td>Compact</td>\n",
       "      <td>Convertible</td>\n",
       "    </tr>\n",
       "    <tr>\n",
       "      <th>16</th>\n",
       "      <td>BMW</td>\n",
       "      <td>1 Series</td>\n",
       "      <td>MANUAL</td>\n",
       "      <td>rear wheel drive</td>\n",
       "      <td>Compact</td>\n",
       "      <td>Coupe</td>\n",
       "    </tr>\n",
       "    <tr>\n",
       "      <th>27</th>\n",
       "      <td>Audi</td>\n",
       "      <td>100</td>\n",
       "      <td>AUTOMATIC</td>\n",
       "      <td>front wheel drive</td>\n",
       "      <td>Midsize</td>\n",
       "      <td>Wagon</td>\n",
       "    </tr>\n",
       "    <tr>\n",
       "      <th>28</th>\n",
       "      <td>Audi</td>\n",
       "      <td>100</td>\n",
       "      <td>MANUAL</td>\n",
       "      <td>all wheel drive</td>\n",
       "      <td>Midsize</td>\n",
       "      <td>Sedan</td>\n",
       "    </tr>\n",
       "    <tr>\n",
       "      <th>29</th>\n",
       "      <td>Audi</td>\n",
       "      <td>100</td>\n",
       "      <td>MANUAL</td>\n",
       "      <td>front wheel drive</td>\n",
       "      <td>Midsize</td>\n",
       "      <td>Sedan</td>\n",
       "    </tr>\n",
       "    <tr>\n",
       "      <th>30</th>\n",
       "      <td>Audi</td>\n",
       "      <td>100</td>\n",
       "      <td>AUTOMATIC</td>\n",
       "      <td>front wheel drive</td>\n",
       "      <td>Midsize</td>\n",
       "      <td>Sedan</td>\n",
       "    </tr>\n",
       "    <tr>\n",
       "      <th>31</th>\n",
       "      <td>Audi</td>\n",
       "      <td>100</td>\n",
       "      <td>AUTOMATIC</td>\n",
       "      <td>all wheel drive</td>\n",
       "      <td>Midsize</td>\n",
       "      <td>Wagon</td>\n",
       "    </tr>\n",
       "    <tr>\n",
       "      <th>32</th>\n",
       "      <td>FIAT</td>\n",
       "      <td>124 Spider</td>\n",
       "      <td>MANUAL</td>\n",
       "      <td>rear wheel drive</td>\n",
       "      <td>Compact</td>\n",
       "      <td>Convertible</td>\n",
       "    </tr>\n",
       "    <tr>\n",
       "      <th>33</th>\n",
       "      <td>FIAT</td>\n",
       "      <td>124 Spider</td>\n",
       "      <td>MANUAL</td>\n",
       "      <td>rear wheel drive</td>\n",
       "      <td>Compact</td>\n",
       "      <td>Convertible</td>\n",
       "    </tr>\n",
       "    <tr>\n",
       "      <th>34</th>\n",
       "      <td>FIAT</td>\n",
       "      <td>124 Spider</td>\n",
       "      <td>MANUAL</td>\n",
       "      <td>rear wheel drive</td>\n",
       "      <td>Compact</td>\n",
       "      <td>Convertible</td>\n",
       "    </tr>\n",
       "    <tr>\n",
       "      <th>41</th>\n",
       "      <td>BMW</td>\n",
       "      <td>2 Series</td>\n",
       "      <td>AUTOMATIC</td>\n",
       "      <td>rear wheel drive</td>\n",
       "      <td>Compact</td>\n",
       "      <td>Coupe</td>\n",
       "    </tr>\n",
       "    <tr>\n",
       "      <th>42</th>\n",
       "      <td>BMW</td>\n",
       "      <td>2 Series</td>\n",
       "      <td>AUTOMATIC</td>\n",
       "      <td>rear wheel drive</td>\n",
       "      <td>Compact</td>\n",
       "      <td>Convertible</td>\n",
       "    </tr>\n",
       "    <tr>\n",
       "      <th>43</th>\n",
       "      <td>BMW</td>\n",
       "      <td>2 Series</td>\n",
       "      <td>AUTOMATIC</td>\n",
       "      <td>rear wheel drive</td>\n",
       "      <td>Compact</td>\n",
       "      <td>Convertible</td>\n",
       "    </tr>\n",
       "    <tr>\n",
       "      <th>44</th>\n",
       "      <td>BMW</td>\n",
       "      <td>2 Series</td>\n",
       "      <td>AUTOMATIC</td>\n",
       "      <td>all wheel drive</td>\n",
       "      <td>Compact</td>\n",
       "      <td>Coupe</td>\n",
       "    </tr>\n",
       "    <tr>\n",
       "      <th>45</th>\n",
       "      <td>BMW</td>\n",
       "      <td>2 Series</td>\n",
       "      <td>AUTOMATIC</td>\n",
       "      <td>all wheel drive</td>\n",
       "      <td>Compact</td>\n",
       "      <td>Convertible</td>\n",
       "    </tr>\n",
       "    <tr>\n",
       "      <th>46</th>\n",
       "      <td>BMW</td>\n",
       "      <td>2 Series</td>\n",
       "      <td>AUTOMATIC</td>\n",
       "      <td>rear wheel drive</td>\n",
       "      <td>Compact</td>\n",
       "      <td>Coupe</td>\n",
       "    </tr>\n",
       "    <tr>\n",
       "      <th>...</th>\n",
       "      <td>...</td>\n",
       "      <td>...</td>\n",
       "      <td>...</td>\n",
       "      <td>...</td>\n",
       "      <td>...</td>\n",
       "      <td>...</td>\n",
       "    </tr>\n",
       "    <tr>\n",
       "      <th>11881</th>\n",
       "      <td>BMW</td>\n",
       "      <td>Z3</td>\n",
       "      <td>MANUAL</td>\n",
       "      <td>rear wheel drive</td>\n",
       "      <td>Compact</td>\n",
       "      <td>Convertible</td>\n",
       "    </tr>\n",
       "    <tr>\n",
       "      <th>11882</th>\n",
       "      <td>BMW</td>\n",
       "      <td>Z3</td>\n",
       "      <td>MANUAL</td>\n",
       "      <td>rear wheel drive</td>\n",
       "      <td>Compact</td>\n",
       "      <td>2dr Hatchback</td>\n",
       "    </tr>\n",
       "    <tr>\n",
       "      <th>11883</th>\n",
       "      <td>BMW</td>\n",
       "      <td>Z3</td>\n",
       "      <td>MANUAL</td>\n",
       "      <td>rear wheel drive</td>\n",
       "      <td>Compact</td>\n",
       "      <td>Convertible</td>\n",
       "    </tr>\n",
       "    <tr>\n",
       "      <th>11884</th>\n",
       "      <td>BMW</td>\n",
       "      <td>Z3</td>\n",
       "      <td>MANUAL</td>\n",
       "      <td>rear wheel drive</td>\n",
       "      <td>Compact</td>\n",
       "      <td>Convertible</td>\n",
       "    </tr>\n",
       "    <tr>\n",
       "      <th>11885</th>\n",
       "      <td>BMW</td>\n",
       "      <td>Z3</td>\n",
       "      <td>MANUAL</td>\n",
       "      <td>rear wheel drive</td>\n",
       "      <td>Compact</td>\n",
       "      <td>Convertible</td>\n",
       "    </tr>\n",
       "    <tr>\n",
       "      <th>11886</th>\n",
       "      <td>BMW</td>\n",
       "      <td>Z3</td>\n",
       "      <td>MANUAL</td>\n",
       "      <td>rear wheel drive</td>\n",
       "      <td>Compact</td>\n",
       "      <td>2dr Hatchback</td>\n",
       "    </tr>\n",
       "    <tr>\n",
       "      <th>11887</th>\n",
       "      <td>BMW</td>\n",
       "      <td>Z3</td>\n",
       "      <td>MANUAL</td>\n",
       "      <td>rear wheel drive</td>\n",
       "      <td>Compact</td>\n",
       "      <td>Convertible</td>\n",
       "    </tr>\n",
       "    <tr>\n",
       "      <th>11888</th>\n",
       "      <td>BMW</td>\n",
       "      <td>Z3</td>\n",
       "      <td>MANUAL</td>\n",
       "      <td>rear wheel drive</td>\n",
       "      <td>Compact</td>\n",
       "      <td>Convertible</td>\n",
       "    </tr>\n",
       "    <tr>\n",
       "      <th>11889</th>\n",
       "      <td>BMW</td>\n",
       "      <td>Z3</td>\n",
       "      <td>MANUAL</td>\n",
       "      <td>rear wheel drive</td>\n",
       "      <td>Compact</td>\n",
       "      <td>2dr Hatchback</td>\n",
       "    </tr>\n",
       "    <tr>\n",
       "      <th>11890</th>\n",
       "      <td>BMW</td>\n",
       "      <td>Z4 M</td>\n",
       "      <td>MANUAL</td>\n",
       "      <td>rear wheel drive</td>\n",
       "      <td>Compact</td>\n",
       "      <td>Coupe</td>\n",
       "    </tr>\n",
       "    <tr>\n",
       "      <th>11891</th>\n",
       "      <td>BMW</td>\n",
       "      <td>Z4 M</td>\n",
       "      <td>MANUAL</td>\n",
       "      <td>rear wheel drive</td>\n",
       "      <td>Compact</td>\n",
       "      <td>Convertible</td>\n",
       "    </tr>\n",
       "    <tr>\n",
       "      <th>11892</th>\n",
       "      <td>BMW</td>\n",
       "      <td>Z4 M</td>\n",
       "      <td>MANUAL</td>\n",
       "      <td>rear wheel drive</td>\n",
       "      <td>Compact</td>\n",
       "      <td>Coupe</td>\n",
       "    </tr>\n",
       "    <tr>\n",
       "      <th>11893</th>\n",
       "      <td>BMW</td>\n",
       "      <td>Z4 M</td>\n",
       "      <td>MANUAL</td>\n",
       "      <td>rear wheel drive</td>\n",
       "      <td>Compact</td>\n",
       "      <td>Convertible</td>\n",
       "    </tr>\n",
       "    <tr>\n",
       "      <th>11894</th>\n",
       "      <td>BMW</td>\n",
       "      <td>Z4</td>\n",
       "      <td>MANUAL</td>\n",
       "      <td>rear wheel drive</td>\n",
       "      <td>Compact</td>\n",
       "      <td>Convertible</td>\n",
       "    </tr>\n",
       "    <tr>\n",
       "      <th>11895</th>\n",
       "      <td>BMW</td>\n",
       "      <td>Z4</td>\n",
       "      <td>MANUAL</td>\n",
       "      <td>rear wheel drive</td>\n",
       "      <td>Compact</td>\n",
       "      <td>Convertible</td>\n",
       "    </tr>\n",
       "    <tr>\n",
       "      <th>11896</th>\n",
       "      <td>BMW</td>\n",
       "      <td>Z4</td>\n",
       "      <td>AUTOMATED_MANUAL</td>\n",
       "      <td>rear wheel drive</td>\n",
       "      <td>Compact</td>\n",
       "      <td>Convertible</td>\n",
       "    </tr>\n",
       "    <tr>\n",
       "      <th>11897</th>\n",
       "      <td>BMW</td>\n",
       "      <td>Z4</td>\n",
       "      <td>MANUAL</td>\n",
       "      <td>rear wheel drive</td>\n",
       "      <td>Compact</td>\n",
       "      <td>Convertible</td>\n",
       "    </tr>\n",
       "    <tr>\n",
       "      <th>11898</th>\n",
       "      <td>BMW</td>\n",
       "      <td>Z4</td>\n",
       "      <td>AUTOMATED_MANUAL</td>\n",
       "      <td>rear wheel drive</td>\n",
       "      <td>Compact</td>\n",
       "      <td>Convertible</td>\n",
       "    </tr>\n",
       "    <tr>\n",
       "      <th>11899</th>\n",
       "      <td>BMW</td>\n",
       "      <td>Z4</td>\n",
       "      <td>AUTOMATED_MANUAL</td>\n",
       "      <td>rear wheel drive</td>\n",
       "      <td>Compact</td>\n",
       "      <td>Convertible</td>\n",
       "    </tr>\n",
       "    <tr>\n",
       "      <th>11900</th>\n",
       "      <td>BMW</td>\n",
       "      <td>Z4</td>\n",
       "      <td>AUTOMATED_MANUAL</td>\n",
       "      <td>rear wheel drive</td>\n",
       "      <td>Compact</td>\n",
       "      <td>Convertible</td>\n",
       "    </tr>\n",
       "    <tr>\n",
       "      <th>11901</th>\n",
       "      <td>BMW</td>\n",
       "      <td>Z4</td>\n",
       "      <td>MANUAL</td>\n",
       "      <td>rear wheel drive</td>\n",
       "      <td>Compact</td>\n",
       "      <td>Convertible</td>\n",
       "    </tr>\n",
       "    <tr>\n",
       "      <th>11902</th>\n",
       "      <td>BMW</td>\n",
       "      <td>Z4</td>\n",
       "      <td>AUTOMATED_MANUAL</td>\n",
       "      <td>rear wheel drive</td>\n",
       "      <td>Compact</td>\n",
       "      <td>Convertible</td>\n",
       "    </tr>\n",
       "    <tr>\n",
       "      <th>11906</th>\n",
       "      <td>Acura</td>\n",
       "      <td>ZDX</td>\n",
       "      <td>AUTOMATIC</td>\n",
       "      <td>all wheel drive</td>\n",
       "      <td>Midsize</td>\n",
       "      <td>4dr Hatchback</td>\n",
       "    </tr>\n",
       "    <tr>\n",
       "      <th>11907</th>\n",
       "      <td>Acura</td>\n",
       "      <td>ZDX</td>\n",
       "      <td>AUTOMATIC</td>\n",
       "      <td>all wheel drive</td>\n",
       "      <td>Midsize</td>\n",
       "      <td>4dr Hatchback</td>\n",
       "    </tr>\n",
       "    <tr>\n",
       "      <th>11908</th>\n",
       "      <td>Acura</td>\n",
       "      <td>ZDX</td>\n",
       "      <td>AUTOMATIC</td>\n",
       "      <td>all wheel drive</td>\n",
       "      <td>Midsize</td>\n",
       "      <td>4dr Hatchback</td>\n",
       "    </tr>\n",
       "    <tr>\n",
       "      <th>11909</th>\n",
       "      <td>Acura</td>\n",
       "      <td>ZDX</td>\n",
       "      <td>AUTOMATIC</td>\n",
       "      <td>all wheel drive</td>\n",
       "      <td>Midsize</td>\n",
       "      <td>4dr Hatchback</td>\n",
       "    </tr>\n",
       "    <tr>\n",
       "      <th>11910</th>\n",
       "      <td>Acura</td>\n",
       "      <td>ZDX</td>\n",
       "      <td>AUTOMATIC</td>\n",
       "      <td>all wheel drive</td>\n",
       "      <td>Midsize</td>\n",
       "      <td>4dr Hatchback</td>\n",
       "    </tr>\n",
       "    <tr>\n",
       "      <th>11911</th>\n",
       "      <td>Acura</td>\n",
       "      <td>ZDX</td>\n",
       "      <td>AUTOMATIC</td>\n",
       "      <td>all wheel drive</td>\n",
       "      <td>Midsize</td>\n",
       "      <td>4dr Hatchback</td>\n",
       "    </tr>\n",
       "    <tr>\n",
       "      <th>11912</th>\n",
       "      <td>Acura</td>\n",
       "      <td>ZDX</td>\n",
       "      <td>AUTOMATIC</td>\n",
       "      <td>all wheel drive</td>\n",
       "      <td>Midsize</td>\n",
       "      <td>4dr Hatchback</td>\n",
       "    </tr>\n",
       "    <tr>\n",
       "      <th>11913</th>\n",
       "      <td>Lincoln</td>\n",
       "      <td>Zephyr</td>\n",
       "      <td>AUTOMATIC</td>\n",
       "      <td>front wheel drive</td>\n",
       "      <td>Midsize</td>\n",
       "      <td>Sedan</td>\n",
       "    </tr>\n",
       "  </tbody>\n",
       "</table>\n",
       "<p>8546 rows × 6 columns</p>\n",
       "</div>"
      ],
      "text/plain": [
       "          Make       Model Transmission         Drive Mode Vehicle Size  \\\n",
       "0          BMW  1 Series M       MANUAL   rear wheel drive      Compact   \n",
       "1          BMW    1 Series       MANUAL   rear wheel drive      Compact   \n",
       "2          BMW    1 Series       MANUAL   rear wheel drive      Compact   \n",
       "3          BMW    1 Series       MANUAL   rear wheel drive      Compact   \n",
       "4          BMW    1 Series       MANUAL   rear wheel drive      Compact   \n",
       "...        ...         ...          ...                ...          ...   \n",
       "11909    Acura         ZDX    AUTOMATIC    all wheel drive      Midsize   \n",
       "11910    Acura         ZDX    AUTOMATIC    all wheel drive      Midsize   \n",
       "11911    Acura         ZDX    AUTOMATIC    all wheel drive      Midsize   \n",
       "11912    Acura         ZDX    AUTOMATIC    all wheel drive      Midsize   \n",
       "11913  Lincoln      Zephyr    AUTOMATIC  front wheel drive      Midsize   \n",
       "\n",
       "       Vehicle Style  \n",
       "0              Coupe  \n",
       "1        Convertible  \n",
       "2              Coupe  \n",
       "3              Coupe  \n",
       "4        Convertible  \n",
       "...              ...  \n",
       "11909  4dr Hatchback  \n",
       "11910  4dr Hatchback  \n",
       "11911  4dr Hatchback  \n",
       "11912  4dr Hatchback  \n",
       "11913          Sedan  \n",
       "\n",
       "[8546 rows x 6 columns]"
      ]
     },
     "execution_count": 43,
     "metadata": {},
     "output_type": "execute_result"
    }
   ],
   "source": [
    "\n",
    "akm = df.select_dtypes(exclude=[np.number]) \n",
    "akm"
   ]
  },
  {
   "cell_type": "markdown",
   "metadata": {
    "papermill": {
     "duration": 0.039661,
     "end_time": "2020-08-22T08:22:54.802476",
     "exception": false,
     "start_time": "2020-08-22T08:22:54.762815",
     "status": "completed"
    },
    "tags": []
   },
   "source": [
    "> It can also be used to transform non-numerical labels (as long as they are hashable and comparable) to numerical labels9.2 . Encode target labels with value between 0 and n_classes-1.\n",
    "> \n",
    "> This transformer should be used to encode target values, i.e. y, and not the input X. It can also be used to transform non-numerical labels (as long as they are hashable and comparable) to numerical labels"
   ]
  },
  {
   "cell_type": "code",
   "execution_count": 44,
   "metadata": {
    "execution": {
     "iopub.execute_input": "2020-08-22T08:22:54.902256Z",
     "iopub.status.busy": "2020-08-22T08:22:54.897992Z",
     "iopub.status.idle": "2020-08-22T08:22:54.945478Z",
     "shell.execute_reply": "2020-08-22T08:22:54.944744Z"
    },
    "papermill": {
     "duration": 0.103264,
     "end_time": "2020-08-22T08:22:54.945625",
     "exception": false,
     "start_time": "2020-08-22T08:22:54.842361",
     "status": "completed"
    },
    "tags": []
   },
   "outputs": [
    {
     "name": "stdout",
     "output_type": "stream",
     "text": [
      "Label Encoded Data\n"
     ]
    },
    {
     "data": {
      "text/html": [
       "<div>\n",
       "<style scoped>\n",
       "    .dataframe tbody tr th:only-of-type {\n",
       "        vertical-align: middle;\n",
       "    }\n",
       "\n",
       "    .dataframe tbody tr th {\n",
       "        vertical-align: top;\n",
       "    }\n",
       "\n",
       "    .dataframe thead th {\n",
       "        text-align: right;\n",
       "    }\n",
       "</style>\n",
       "<table border=\"1\" class=\"dataframe\">\n",
       "  <thead>\n",
       "    <tr style=\"text-align: right;\">\n",
       "      <th></th>\n",
       "      <th>Make</th>\n",
       "      <th>Model</th>\n",
       "      <th>Year</th>\n",
       "      <th>HP</th>\n",
       "      <th>Cylinders</th>\n",
       "      <th>Transmission</th>\n",
       "      <th>Drive Mode</th>\n",
       "      <th>Vehicle Size</th>\n",
       "      <th>Vehicle Style</th>\n",
       "      <th>MPG-H</th>\n",
       "      <th>MPG-C</th>\n",
       "      <th>Popularity</th>\n",
       "      <th>Price</th>\n",
       "    </tr>\n",
       "  </thead>\n",
       "  <tbody>\n",
       "    <tr>\n",
       "      <th>0</th>\n",
       "      <td>3</td>\n",
       "      <td>1</td>\n",
       "      <td>2011</td>\n",
       "      <td>335.0</td>\n",
       "      <td>6.0</td>\n",
       "      <td>2</td>\n",
       "      <td>3</td>\n",
       "      <td>0</td>\n",
       "      <td>8</td>\n",
       "      <td>26</td>\n",
       "      <td>19</td>\n",
       "      <td>3916</td>\n",
       "      <td>46135</td>\n",
       "    </tr>\n",
       "    <tr>\n",
       "      <th>1</th>\n",
       "      <td>3</td>\n",
       "      <td>0</td>\n",
       "      <td>2011</td>\n",
       "      <td>300.0</td>\n",
       "      <td>6.0</td>\n",
       "      <td>2</td>\n",
       "      <td>3</td>\n",
       "      <td>0</td>\n",
       "      <td>6</td>\n",
       "      <td>28</td>\n",
       "      <td>19</td>\n",
       "      <td>3916</td>\n",
       "      <td>40650</td>\n",
       "    </tr>\n",
       "    <tr>\n",
       "      <th>2</th>\n",
       "      <td>3</td>\n",
       "      <td>0</td>\n",
       "      <td>2011</td>\n",
       "      <td>300.0</td>\n",
       "      <td>6.0</td>\n",
       "      <td>2</td>\n",
       "      <td>3</td>\n",
       "      <td>0</td>\n",
       "      <td>8</td>\n",
       "      <td>28</td>\n",
       "      <td>20</td>\n",
       "      <td>3916</td>\n",
       "      <td>36350</td>\n",
       "    </tr>\n",
       "    <tr>\n",
       "      <th>3</th>\n",
       "      <td>3</td>\n",
       "      <td>0</td>\n",
       "      <td>2011</td>\n",
       "      <td>230.0</td>\n",
       "      <td>6.0</td>\n",
       "      <td>2</td>\n",
       "      <td>3</td>\n",
       "      <td>0</td>\n",
       "      <td>8</td>\n",
       "      <td>28</td>\n",
       "      <td>18</td>\n",
       "      <td>3916</td>\n",
       "      <td>29450</td>\n",
       "    </tr>\n",
       "    <tr>\n",
       "      <th>4</th>\n",
       "      <td>3</td>\n",
       "      <td>0</td>\n",
       "      <td>2011</td>\n",
       "      <td>230.0</td>\n",
       "      <td>6.0</td>\n",
       "      <td>2</td>\n",
       "      <td>3</td>\n",
       "      <td>0</td>\n",
       "      <td>6</td>\n",
       "      <td>28</td>\n",
       "      <td>18</td>\n",
       "      <td>3916</td>\n",
       "      <td>34500</td>\n",
       "    </tr>\n",
       "  </tbody>\n",
       "</table>\n",
       "</div>"
      ],
      "text/plain": [
       "   Make  Model  Year     HP  Cylinders  Transmission  Drive Mode  \\\n",
       "0     3      1  2011  335.0        6.0             2           3   \n",
       "1     3      0  2011  300.0        6.0             2           3   \n",
       "2     3      0  2011  300.0        6.0             2           3   \n",
       "3     3      0  2011  230.0        6.0             2           3   \n",
       "4     3      0  2011  230.0        6.0             2           3   \n",
       "\n",
       "   Vehicle Size  Vehicle Style  MPG-H  MPG-C  Popularity  Price  \n",
       "0             0              8     26     19        3916  46135  \n",
       "1             0              6     28     19        3916  40650  \n",
       "2             0              8     28     20        3916  36350  \n",
       "3             0              8     28     18        3916  29450  \n",
       "4             0              6     28     18        3916  34500  "
      ]
     },
     "execution_count": 44,
     "metadata": {},
     "output_type": "execute_result"
    }
   ],
   "source": [
    "\n",
    "from sklearn.preprocessing import LabelEncoder\n",
    "label_enc = LabelEncoder()\n",
    "for i in akm:\n",
    "  df[i] = label_enc.fit_transform(df[i])\n",
    "print('Label Encoded Data')\n",
    "df.head()"
   ]
  },
  {
   "cell_type": "markdown",
   "metadata": {
    "papermill": {
     "duration": 0.041236,
     "end_time": "2020-08-22T08:22:55.027017",
     "exception": false,
     "start_time": "2020-08-22T08:22:54.985781",
     "status": "completed"
    },
    "tags": []
   },
   "source": [
    "\n",
    "# 9.3 PREPROCESSSING THE DATA BEFORE SPLITTING"
   ]
  },
  {
   "cell_type": "markdown",
   "metadata": {
    "papermill": {
     "duration": 0.040876,
     "end_time": "2020-08-22T08:22:55.108118",
     "exception": false,
     "start_time": "2020-08-22T08:22:55.067242",
     "status": "completed"
    },
    "tags": []
   },
   "source": [
    "Need of Data Preprocessing • For achieving better results from the applied model in Machine Learning projects the format of the data has to be in a proper manner. Some specified Machine Learning model needs information in a specified format, for example, Random Forest algorithm does not support null values, therefore to execute random forest algorithm null values have to be managed from the original raw data set.\n",
    "\n",
    "• Another aspect is that data set should be formatted in such a way that more than one Machine Learning and Deep Learning algorithms are executed in one data set, and best out of them is chosen."
   ]
  },
  {
   "cell_type": "code",
   "execution_count": 45,
   "metadata": {
    "execution": {
     "iopub.execute_input": "2020-08-22T08:22:55.207187Z",
     "iopub.status.busy": "2020-08-22T08:22:55.204741Z",
     "iopub.status.idle": "2020-08-22T08:22:55.218199Z",
     "shell.execute_reply": "2020-08-22T08:22:55.218832Z"
    },
    "papermill": {
     "duration": 0.069876,
     "end_time": "2020-08-22T08:22:55.219069",
     "exception": false,
     "start_time": "2020-08-22T08:22:55.149193",
     "status": "completed"
    },
    "tags": []
   },
   "outputs": [],
   "source": [
    "dcode=df\n",
    "\n",
    "dcode[\"Make\"]=dcode[\"Make\"].astype(\"category\")\n",
    "dcode[\"Make\"]=dcode[\"Make\"].cat.codes\n",
    "\n",
    "dcode[\"Model\"] = dcode[\"Model\"].astype('category')\n",
    "dcode[\"Model\"] = dcode[\"Model\"].cat.codes\n",
    "\n",
    "'''dcode[\"Year\"]=dcode[\"Year\"].astype(\"category\")\n",
    "dcode[\"Year\"]=dcode[\"Year\"].cat.codes\n",
    "dcode[\"HP\"]=dcode[\"HP\"].astype(\"category\")\n",
    "dcode[\"HP\"]=dcode[\"HP\"].cat.codes\n",
    "dcode[\"Cylinders\"]=dcode[\"Cylinders\"].astype(\"category\")\n",
    "dcode[\"Cylinders\"]=dcode[\"Cylinders\"].cat.codes\n",
    "dcode[\"MPG-H\"]=dcode[\"MPG-H\"].astype(\"category\")\n",
    "dcode[\"MPG-H\"]=dcode[\"MPG-H\"].cat.codes\n",
    "dcode[\"MPG-C\"]=dcode[\"MPG-C\"].astype(\"category\")\n",
    "dcode[\"MPG-C\"]=dcode[\"MPG-C\"].cat.codes\n",
    "dcode[\"Popularity\"]=dcode[\"Popularity\"].astype(\"category\")\n",
    "dcode[\"Popularity\"]=dcode[\"Popularity\"].cat.codes'''\n",
    "\n",
    "dcode[\"Transmission\"]=dcode[\"Transmission\"].astype(\"category\")\n",
    "dcode[\"Transmission\"]=dcode[\"Transmission\"].cat.codes\n",
    "\n",
    "dcode[\"Drive Mode\"]=dcode[\"Drive Mode\"].astype(\"category\")\n",
    "dcode[\"Drive Mode\"]=dcode[\"Drive Mode\"].cat.codes\n",
    "\n",
    "dcode[\"Vehicle Size\"]=dcode[\"Vehicle Size\"].astype(\"category\")\n",
    "dcode[\"Vehicle Size\"]=dcode[\"Vehicle Size\"].cat.codes\n",
    "\n",
    "dcode[\"Vehicle Style\"]=dcode[\"Vehicle Style\"].astype(\"category\")\n",
    "dcode[\"Vehicle Style\"]=dcode[\"Vehicle Style\"].cat.codes"
   ]
  },
  {
   "cell_type": "code",
   "execution_count": 46,
   "metadata": {
    "execution": {
     "iopub.execute_input": "2020-08-22T08:22:55.309906Z",
     "iopub.status.busy": "2020-08-22T08:22:55.309091Z",
     "iopub.status.idle": "2020-08-22T08:22:55.318169Z",
     "shell.execute_reply": "2020-08-22T08:22:55.317482Z"
    },
    "papermill": {
     "duration": 0.058949,
     "end_time": "2020-08-22T08:22:55.318337",
     "exception": false,
     "start_time": "2020-08-22T08:22:55.259388",
     "status": "completed"
    },
    "tags": []
   },
   "outputs": [
    {
     "name": "stderr",
     "output_type": "stream",
     "text": [
      "C:\\Users\\HP\\Anaconda3\\lib\\site-packages\\sklearn\\utils\\validation.py:595: DataConversionWarning: Data with input dtype int16 was converted to float64 by StandardScaler.\n",
      "  warnings.warn(msg, DataConversionWarning)\n",
      "C:\\Users\\HP\\Anaconda3\\lib\\site-packages\\sklearn\\utils\\validation.py:595: DataConversionWarning: Data with input dtype int16 was converted to float64 by StandardScaler.\n",
      "  warnings.warn(msg, DataConversionWarning)\n"
     ]
    }
   ],
   "source": [
    "from sklearn import preprocessing\n",
    "X = np.asarray(dcode[['Make', 'Model', 'Transmission', 'Drive Mode','Vehicle Size','Vehicle Style']])\n",
    "y = np.asarray(dcode['Price'])\n",
    "X = preprocessing.StandardScaler().fit(X).transform(X)"
   ]
  },
  {
   "cell_type": "markdown",
   "metadata": {
    "papermill": {
     "duration": 0.040346,
     "end_time": "2020-08-22T08:22:55.399207",
     "exception": false,
     "start_time": "2020-08-22T08:22:55.358861",
     "status": "completed"
    },
    "tags": []
   },
   "source": [
    " \n",
    "# 9.4 SPLITTING OF DATA FOR BUILDING MODELS\n",
    "> Make sure that your test set meets the following two conditions:\n",
    "> \n",
    "> Is large enough to yield statistically meaningful results. Is representative of the data set as a whole. In other words, don't pick a test set with different characteristics than the training set. Assuming that your test set meets the preceding two conditions, your goal is to create a model that generalizes well to new data. Our test set serves as a proxy for new data. For example, consider the following figure. Notice that the model learned for the training data is very simple. This model doesn't do a perfect job—a few predictions are wrong. However, this model does about as well on the test data as it does on the training data. In other words, this simple model does not overfit the training data."
   ]
  },
  {
   "cell_type": "code",
   "execution_count": 47,
   "metadata": {
    "execution": {
     "iopub.execute_input": "2020-08-22T08:22:55.495001Z",
     "iopub.status.busy": "2020-08-22T08:22:55.494067Z",
     "iopub.status.idle": "2020-08-22T08:22:55.500697Z",
     "shell.execute_reply": "2020-08-22T08:22:55.499601Z"
    },
    "papermill": {
     "duration": 0.059388,
     "end_time": "2020-08-22T08:22:55.500906",
     "exception": false,
     "start_time": "2020-08-22T08:22:55.441518",
     "status": "completed"
    },
    "tags": []
   },
   "outputs": [
    {
     "name": "stdout",
     "output_type": "stream",
     "text": [
      "(6836, 6) (6836,)\n",
      "(1710, 6) (1710,)\n"
     ]
    }
   ],
   "source": [
    "from sklearn.model_selection import train_test_split\n",
    "X_train, X_test, y_train, y_test = train_test_split( X, y, test_size=0.2, random_state=44)\n",
    "print(X_train.shape, y_train.shape)\n",
    "print(X_test.shape, y_test.shape)"
   ]
  },
  {
   "cell_type": "markdown",
   "metadata": {
    "papermill": {
     "duration": 0.040817,
     "end_time": "2020-08-22T08:22:55.583156",
     "exception": false,
     "start_time": "2020-08-22T08:22:55.542339",
     "status": "completed"
    },
    "tags": []
   },
   "source": [
    "\n",
    "# 9.4 LINEAR REGRESSION MODEL WITH PRICE AS A TARGET VARIABLE\n",
    "> • Our algorithm should be helping us to draw a regression line to predict the cities which can provide the best profitability • We will use scikitlearn’s Linear Regression to train our model on both the training and test"
   ]
  },
  {
   "cell_type": "code",
   "execution_count": 48,
   "metadata": {
    "execution": {
     "iopub.execute_input": "2020-08-22T08:22:55.672022Z",
     "iopub.status.busy": "2020-08-22T08:22:55.671205Z",
     "iopub.status.idle": "2020-08-22T08:22:55.718452Z",
     "shell.execute_reply": "2020-08-22T08:22:55.717739Z"
    },
    "papermill": {
     "duration": 0.09502,
     "end_time": "2020-08-22T08:22:55.718627",
     "exception": false,
     "start_time": "2020-08-22T08:22:55.623607",
     "status": "completed"
    },
    "tags": []
   },
   "outputs": [],
   "source": [
    "from sklearn import linear_model\n",
    "lm = linear_model.LinearRegression()\n",
    "model = lm.fit(X_train,y_train)\n",
    "predictions = lm.predict(X_test)"
   ]
  },
  {
   "cell_type": "code",
   "execution_count": 49,
   "metadata": {
    "execution": {
     "iopub.execute_input": "2020-08-22T08:22:55.809139Z",
     "iopub.status.busy": "2020-08-22T08:22:55.808290Z",
     "iopub.status.idle": "2020-08-22T08:22:55.818508Z",
     "shell.execute_reply": "2020-08-22T08:22:55.817671Z"
    },
    "papermill": {
     "duration": 0.059178,
     "end_time": "2020-08-22T08:22:55.818665",
     "exception": false,
     "start_time": "2020-08-22T08:22:55.759487",
     "status": "completed"
    },
    "tags": []
   },
   "outputs": [
    {
     "data": {
      "text/plain": [
       "1.0"
      ]
     },
     "execution_count": 49,
     "metadata": {},
     "output_type": "execute_result"
    }
   ],
   "source": [
    "from sklearn.linear_model import LinearRegression\n",
    "model = LinearRegression().fit(X_train,y_train)\n",
    "y_pred = model.predict(X_test)\n",
    "model.score(X_test,y_pred)\n"
   ]
  },
  {
   "cell_type": "markdown",
   "metadata": {
    "papermill": {
     "duration": 0.040876,
     "end_time": "2020-08-22T08:22:55.900524",
     "exception": false,
     "start_time": "2020-08-22T08:22:55.859648",
     "status": "completed"
    },
    "tags": []
   },
   "source": [
    "\n",
    "# AFTER FITTING THE MODEL\n",
    "> MAKING DIFFERENT TYPE OF TREES"
   ]
  },
  {
   "cell_type": "markdown",
   "metadata": {
    "papermill": {
     "duration": 0.042573,
     "end_time": "2020-08-22T08:22:55.984575",
     "exception": false,
     "start_time": "2020-08-22T08:22:55.942002",
     "status": "completed"
    },
    "tags": []
   },
   "source": [
    "\n",
    "# WHY DECISION TREE\n",
    "\n",
    "A decision tree is a decision support tool that uses a tree-like model of decisions and their possible consequences, including chance event outcomes, resource costs, and utility. It is one way to display an algorithm that only contains conditional control statements.\n",
    "\n",
    "Decision trees are commonly used in operations research, specifically in decision analysis, to help identify a strategy most likely to reach a goal, but are also a popular tool in machine learning."
   ]
  },
  {
   "cell_type": "markdown",
   "metadata": {
    "papermill": {
     "duration": 0.040838,
     "end_time": "2020-08-22T08:22:56.075635",
     "exception": false,
     "start_time": "2020-08-22T08:22:56.034797",
     "status": "completed"
    },
    "tags": []
   },
   "source": [
    "# WHY DO WE NEED CONFUSION MATRIX?\n",
    " \n",
    "# What is a Confusion Matrix in Machine Learning\n",
    "\n",
    "A confusion matrix is a technique for summarizing the performance of a classification algorithm.\n",
    "\n",
    "Classification accuracy alone can be misleading if you have an unequal number of observations in each class or if you have more than two classes in your dataset.\n",
    "\n",
    "Calculating a confusion matrix can give you a better idea of what your classification model is getting right and what types of errors it is making.\n",
    "\n",
    "\n",
    "\n",
    "\n",
    "Classification Accuracy and its Limitations\n",
    "Classification accuracy is the ratio of correct predictions to total predictions made.\n",
    "\n",
    "classification accuracy = correct predictions / total predictions\n",
    "1\n",
    "classification accuracy = correct predictions / total predictions\n",
    "It is often presented as a percentage by multiplying the result by 100.\n",
    "\n",
    "classification accuracy = correct predictions / total predictions * 100\n",
    "1\n",
    "classification accuracy = correct predictions / total predictions * 100\n",
    "Classification accuracy can also easily be turned into a misclassification rate or error rate by inverting the value, such as:\n",
    "\n",
    "error rate = (1 - (correct predictions / total predictions)) * 100\n",
    "1\n",
    "error rate = (1 - (correct predictions / total predictions)) * 100\n",
    "Classification accuracy is a great place to start, but often encounters problems in practice.\n",
    "\n",
    "The main problem with classification accuracy is that it hides the detail you need to better understand the performance of your classification model. There are two examples where you are most likely to encounter this problem:\n",
    "\n",
    "When your data has more than 2 classes. With 3 or more classes you may get a classification accuracy of 80%, but you don’t know if that is because all classes are being predicted equally well or whether one or two classes are being neglected by the model.\n",
    "When your data does not have an even number of classes. You may achieve accuracy of 90% or more, but this is not a good score if 90 records for every 100 belong to one class and you can achieve this score by always predicting the most common class value.\n",
    "Classification accuracy can hide the detail you need to diagnose the performance of your model. But thankfully we can tease apart this detail by using a confusion matrix.\n",
    "\n",
    "\n",
    "You need a test dataset or a validation dataset with expected outcome values.\n",
    "Make a prediction for each row in your test dataset.\n",
    "From the expected outcomes and predictions count:\n",
    "The number of correct predictions for each class.\n",
    "The number of incorrect predictions for each class, organized by the class that was predicted.\n",
    "These numbers are then organized into a table, or a matrix as follows:\n",
    "\n",
    "Expected down the side: Each row of the matrix corresponds to a predicted class.\n",
    "Predicted across the top: Each column of the matrix corresponds to an actual class.\n",
    "The counts of correct and incorrect classification are then filled into the table.\n",
    "\n",
    "The total number of correct predictions for a class go into the expected row for that class value and the predicted column for that class value.\n",
    "\n",
    "In the same way, the total number of incorrect predictions for a class go into the expected row for that class value and the predicted column for that class value."
   ]
  },
  {
   "cell_type": "code",
   "execution_count": 50,
   "metadata": {
    "execution": {
     "iopub.execute_input": "2020-08-22T08:22:56.167321Z",
     "iopub.status.busy": "2020-08-22T08:22:56.166395Z",
     "iopub.status.idle": "2020-08-22T08:22:56.937579Z",
     "shell.execute_reply": "2020-08-22T08:22:56.936395Z"
    },
    "papermill": {
     "duration": 0.821357,
     "end_time": "2020-08-22T08:22:56.937791",
     "exception": false,
     "start_time": "2020-08-22T08:22:56.116434",
     "status": "completed"
    },
    "tags": []
   },
   "outputs": [
    {
     "name": "stdout",
     "output_type": "stream",
     "text": [
      "Confusion Matrix:\n",
      "\n",
      " [[53  0  1 ...  0  0  0]\n",
      " [ 1  0  0 ...  0  0  0]\n",
      " [ 0  0  0 ...  0  0  0]\n",
      " ...\n",
      " [ 0  0  0 ...  0  0  0]\n",
      " [ 0  0  0 ...  0  0  0]\n",
      " [ 0  0  0 ...  0  0  0]]\n",
      "\n",
      "Accuracy :  5.497076023391813\n"
     ]
    }
   ],
   "source": [
    "from sklearn.tree import DecisionTreeClassifier \n",
    "from sklearn.metrics import accuracy_score, confusion_matrix, classification_report \n",
    "d_m = DecisionTreeClassifier(random_state = 0)\n",
    "d_m.fit(X_train,y_train)\n",
    "y_pred = d_m.predict(X_test)\n",
    "print(\"Confusion Matrix:\\n\\n\", confusion_matrix(y_test, y_pred)) \n",
    "print (\"\\nAccuracy : \", accuracy_score(y_test,y_pred)*100)"
   ]
  },
  {
   "cell_type": "markdown",
   "metadata": {
    "papermill": {
     "duration": 0.041032,
     "end_time": "2020-08-22T08:22:57.020631",
     "exception": false,
     "start_time": "2020-08-22T08:22:56.979599",
     "status": "completed"
    },
    "tags": []
   },
   "source": [
    "# Get the coefficients"
   ]
  },
  {
   "cell_type": "code",
   "execution_count": 51,
   "metadata": {
    "execution": {
     "iopub.execute_input": "2020-08-22T08:22:57.111033Z",
     "iopub.status.busy": "2020-08-22T08:22:57.110035Z",
     "iopub.status.idle": "2020-08-22T08:22:57.115353Z",
     "shell.execute_reply": "2020-08-22T08:22:57.114663Z"
    },
    "papermill": {
     "duration": 0.053345,
     "end_time": "2020-08-22T08:22:57.115509",
     "exception": false,
     "start_time": "2020-08-22T08:22:57.062164",
     "status": "completed"
    },
    "tags": []
   },
   "outputs": [
    {
     "data": {
      "text/plain": [
       "array([-2765.72755389,   -77.75605011, -3689.93323223, -1912.50348199,\n",
       "        2619.61998461, -1175.94499072])"
      ]
     },
     "execution_count": 51,
     "metadata": {},
     "output_type": "execute_result"
    }
   ],
   "source": [
    "\n",
    "model.coef_"
   ]
  },
  {
   "cell_type": "markdown",
   "metadata": {
    "papermill": {
     "duration": 0.046745,
     "end_time": "2020-08-22T08:22:57.214730",
     "exception": false,
     "start_time": "2020-08-22T08:22:57.167985",
     "status": "completed"
    },
    "tags": []
   },
   "source": [
    "\n",
    "# Get the intercept, c"
   ]
  },
  {
   "cell_type": "code",
   "execution_count": 52,
   "metadata": {
    "execution": {
     "iopub.execute_input": "2020-08-22T08:22:57.317173Z",
     "iopub.status.busy": "2020-08-22T08:22:57.316047Z",
     "iopub.status.idle": "2020-08-22T08:22:57.321541Z",
     "shell.execute_reply": "2020-08-22T08:22:57.320739Z"
    },
    "papermill": {
     "duration": 0.060351,
     "end_time": "2020-08-22T08:22:57.321729",
     "exception": false,
     "start_time": "2020-08-22T08:22:57.261378",
     "status": "completed"
    },
    "tags": []
   },
   "outputs": [
    {
     "data": {
      "text/plain": [
       "30890.215034359757"
      ]
     },
     "execution_count": 52,
     "metadata": {},
     "output_type": "execute_result"
    }
   ],
   "source": [
    "\n",
    "model.intercept_"
   ]
  },
  {
   "cell_type": "markdown",
   "metadata": {
    "papermill": {
     "duration": 0.05661,
     "end_time": "2020-08-22T08:22:57.421001",
     "exception": false,
     "start_time": "2020-08-22T08:22:57.364391",
     "status": "completed"
    },
    "tags": []
   },
   "source": [
    "\n",
    "# Predict unknown data"
   ]
  },
  {
   "cell_type": "code",
   "execution_count": 53,
   "metadata": {
    "execution": {
     "iopub.execute_input": "2020-08-22T08:22:57.520196Z",
     "iopub.status.busy": "2020-08-22T08:22:57.519027Z",
     "iopub.status.idle": "2020-08-22T08:22:57.524144Z",
     "shell.execute_reply": "2020-08-22T08:22:57.523496Z"
    },
    "papermill": {
     "duration": 0.054388,
     "end_time": "2020-08-22T08:22:57.524292",
     "exception": false,
     "start_time": "2020-08-22T08:22:57.469904",
     "status": "completed"
    },
    "tags": []
   },
   "outputs": [
    {
     "data": {
      "text/plain": [
       "array([32606.91434146, 41972.33261763, 39222.22480877, ...,\n",
       "       32303.63826792, 29190.9509687 , 34961.26003902])"
      ]
     },
     "execution_count": 53,
     "metadata": {},
     "output_type": "execute_result"
    }
   ],
   "source": [
    "model.predict(X_test)"
   ]
  },
  {
   "cell_type": "markdown",
   "metadata": {
    "papermill": {
     "duration": 0.040659,
     "end_time": "2020-08-22T08:22:57.606134",
     "exception": false,
     "start_time": "2020-08-22T08:22:57.565475",
     "status": "completed"
    },
    "tags": []
   },
   "source": [
    "\n",
    "# plot prediction and actual data\n",
    "To better understand why the prediction and actual are different , you can plot it in the following way:"
   ]
  },
  {
   "cell_type": "code",
   "execution_count": 54,
   "metadata": {
    "execution": {
     "iopub.execute_input": "2020-08-22T08:22:57.705043Z",
     "iopub.status.busy": "2020-08-22T08:22:57.698339Z",
     "iopub.status.idle": "2020-08-22T08:22:58.021706Z",
     "shell.execute_reply": "2020-08-22T08:22:58.020972Z"
    },
    "papermill": {
     "duration": 0.374147,
     "end_time": "2020-08-22T08:22:58.021857",
     "exception": false,
     "start_time": "2020-08-22T08:22:57.647710",
     "status": "completed"
    },
    "tags": []
   },
   "outputs": [
    {
     "data": {
      "image/png": "[encoded data removed]",
      "text/plain": [
       "<Figure size 432x288 with 1 Axes>"
      ]
     },
     "metadata": {
      "needs_background": "light"
     },
     "output_type": "display_data"
    }
   ],
   "source": [
    "y_pred = model.predict(X_test) \n",
    "plt.plot(y_test, y_pred, '.')\n",
    "\n",
    "# plot a line, a perfit predict would all fall on this line\n",
    "x = np.linspace(0, 330, 100)\n",
    "y = x\n",
    "plt.plot(x, y)\n",
    "plt.show()"
   ]
  },
  {
   "cell_type": "markdown",
   "metadata": {
    "papermill": {
     "duration": 0.041643,
     "end_time": "2020-08-22T08:22:58.105374",
     "exception": false,
     "start_time": "2020-08-22T08:22:58.063731",
     "status": "completed"
    },
    "tags": []
   },
   "source": [
    "\n",
    "# 10.Try different algorithms and check their performance over metrics like R square, RMSE, MAE etc and document your findings"
   ]
  },
  {
   "cell_type": "markdown",
   "metadata": {
    "papermill": {
     "duration": 0.042281,
     "end_time": "2020-08-22T08:22:58.189634",
     "exception": false,
     "start_time": "2020-08-22T08:22:58.147353",
     "status": "completed"
    },
    "tags": []
   },
   "source": [
    "# r2 score\n",
    "> —varies between 0 and 100%. It is closely related to the MSE (see below), but not the same. Wikipedia defines r2 like this, ” … is the proportion of the variance in the dependent variable that is predictable from the independent variable(s).” Another definition is “(total variance explained by model) / total variance.” So if it is 100%, the two variables are perfectly correlated, i.e., with no variance at all. A low value would show a low level of correlation, meaning a regression model that is not valid, but not in all cases.\n",
    "> \n",
    "> Reading the code below, we do this calculation in three steps to make it easier to understand. g is the sum of the differences between the observed values and the predicted ones. (ytest[i] – preds[i]) **2. y is each observed value y[i] minus the average of observed values np.mean(ytest). And then the results are printed thus:\n",
    "> \n",
    "\n",
    "\n",
    "\n",
    " \n",
    "# mean square error (MSE)—\n",
    "> is the average of the square of the errors. The larger the number the larger the error. Error in this case means the difference between the observed values y1, y2, y3, … and the predicted ones pred(y1), pred(y2), pred(y3), … We square each difference (pred(yn) – yn)) ** 2 so that negative and positive values do not cancel each other out.\n",
    "> \n",
    "\n",
    "# Mean Absolute Error or MAE\n",
    "We know that an error basically is the absolute difference between the actual or true values and the values that are predicted. Absolute difference means that if the result has a negative sign, it is ignored.\n",
    "\n",
    "Hence, MAE = True values – Predicted values\n",
    "\n",
    "MAE takes the average of this error from every sample in a dataset and gives the output. But this value might not be the relevant aspect that can be considered while dealing with a real-life situation because the data we use to build the model as well as evaluate it is the same, which means the model has no exposure to real, never-seen-before data. So, it may perform extremely well on seen data but might fail miserably when it encounters real, unseen data.\n",
    "\n",
    "The concepts of underfitting and overfitting can be pondered over, from here:\n",
    "\n",
    "Underfitting: The scenario when a machine learning model almost exactly matches the training data but performs very poorly when it encounters new data or validation set.\n",
    "\n",
    "Overfitting: The scenario when a machine learning model is unable to capture the important patterns and insights from the data, which results in the model performing poorly on training data itself.\n",
    "\n",
    "This can be implemented using sklearn’s mean_absolute_error method:"
   ]
  },
  {
   "cell_type": "markdown",
   "metadata": {
    "papermill": {
     "duration": 0.041059,
     "end_time": "2020-08-22T08:22:58.272792",
     "exception": false,
     "start_time": "2020-08-22T08:22:58.231733",
     "status": "completed"
    },
    "tags": []
   },
   "source": [
    "\n",
    "# Where to use which Metric to determine the Performance of a Machine Learning Model?\n",
    "\n",
    "#MAE: It is not very sensitive to outliers in comparison to MSE since it doesn't punish huge errors. It is usually used when the performance is measured on continuous variable data. It gives a linear value, which averages the weighted individual differences equally. The lower the value, better is the model's performance.\n",
    "\n",
    "MSE: It is one of the most commonly used metrics, but least useful when a single bad prediction would ruin the entire model's predicting abilities, i.e when the dataset contains a lot of noise. It is most useful when the dataset contains outliers, or unexpected values (too high or too low values).\n",
    "\n",
    "RMSE: In RMSE, the errors are squared before they are averaged. This basically implies that RMSE assigns a higher weight to larger errors. This indicates that RMSE is much more useful when large errors are present and they drastically affect the model's performance. It avoids taking the absolute value of the error and this trait is useful in many mathematical calculations. In this metric also, lower the value, better is the performance of the model."
   ]
  },
  {
   "cell_type": "code",
   "execution_count": 55,
   "metadata": {
    "execution": {
     "iopub.execute_input": "2020-08-22T08:22:58.367904Z",
     "iopub.status.busy": "2020-08-22T08:22:58.366812Z",
     "iopub.status.idle": "2020-08-22T08:22:58.374350Z",
     "shell.execute_reply": "2020-08-22T08:22:58.373386Z"
    },
    "papermill": {
     "duration": 0.059384,
     "end_time": "2020-08-22T08:22:58.374528",
     "exception": false,
     "start_time": "2020-08-22T08:22:58.315144",
     "status": "completed"
    },
    "tags": []
   },
   "outputs": [
    {
     "name": "stdout",
     "output_type": "stream",
     "text": [
      "MSE: 189818771.08\n",
      "R Squared : 0.19\n",
      "MAE :10375.20\n",
      "RMSE : 13777.47\n"
     ]
    }
   ],
   "source": [
    "from sklearn.metrics import mean_squared_error, r2_score, mean_absolute_error\n",
    "import math\n",
    "\n",
    "print('MSE: %.2f' % mean_squared_error(y_test, y_pred))\n",
    "print('R Squared : %.2f' % r2_score(y_test, y_pred))\n",
    "print('MAE :%.2f' % mean_absolute_error(y_test, y_pred))\n",
    "print('RMSE : %.2f' % math.sqrt(mean_squared_error(y_test, y_pred)))"
   ]
  },
  {
   "cell_type": "markdown",
   "metadata": {
    "papermill": {
     "duration": 0.041942,
     "end_time": "2020-08-22T08:22:58.459840",
     "exception": false,
     "start_time": "2020-08-22T08:22:58.417898",
     "status": "completed"
    },
    "tags": []
   },
   "source": [
    " \n",
    "# 10.2 document my findings\n",
    "There is no correct value for MSE. Simply put, the lower the value the better and 0 means the model is perfect. Since there is no correct answer, the MSE’s basic value is in selecting one prediction model over another.\n",
    "\n",
    "Similarly, there is also no correct answer as to what R2 should be. 100% means perfect correlation. Yet, there are models with a low R2 that are still good models.\n",
    "\n",
    "Our take away message here is that you cannot look at these metrics in isolation in sizing up your model. You have to look at other metrics as well, plus understand the underlying math."
   ]
  },
  {
   "cell_type": "code",
   "execution_count": null,
   "metadata": {},
   "outputs": [],
   "source": []
  }
 ],
 "metadata": {
  "kernelspec": {
   "display_name": "Python 3",
   "language": "python",
   "name": "python3"
  },
  "language_info": {
   "codemirror_mode": {
    "name": "ipython",
    "version": 3
   },
   "file_extension": ".py",
   "mimetype": "text/x-python",
   "name": "python",
   "nbconvert_exporter": "python",
   "pygments_lexer": "ipython3",
   "version": "3.7.3"
  },
  "papermill": {
   "duration": 29.668417,
   "end_time": "2020-08-22T08:22:58.612014",
   "environment_variables": {},
   "exception": null,
   "input_path": "__notebook__.ipynb",
   "output_path": "__notebook__.ipynb",
   "parameters": {},
   "start_time": "2020-08-22T08:22:28.943597",
   "version": "2.1.0"
  }
 },
 "nbformat": 4,
 "nbformat_minor": 4
}
